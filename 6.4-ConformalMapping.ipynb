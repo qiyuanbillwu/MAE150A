{
 "cells": [
  {
   "cell_type": "markdown",
   "metadata": {},
   "source": [
    "<img src=\"https://raw.githubusercontent.com/UCLAMAEThreads/FluidDynTools.jl/main/notebook/logo_UCLA_blue_boxed.svg\" alt=\"ucla logo\" width=\"150\" align=\"left\"/>"
   ]
  },
  {
   "cell_type": "markdown",
   "metadata": {},
   "source": [
    "### **Introduction to Fluid Dynamics**\n",
    "<hr />"
   ]
  },
  {
   "cell_type": "markdown",
   "metadata": {},
   "source": [
    "# General potential flows around bodies in 2D\n",
    "In the previous notebook, we looked at how we could assemble flows past\n",
    "bodies through superposition of singularities. That provided a\n",
    "nice way to understand the intuition of the solution. However,\n",
    "it turns out that there is a more elegant procedure for constructing\n",
    "the solution of potential flow around 2D objects.\n",
    "\n",
    "The procedure consists of two ingredients\n",
    "1. We solve the problem for a body in the shape of the unit circle (a circle of radius 1)\n",
    "2. We map that circle geometry into the actual geometry we desire\n",
    "\n",
    "If the mapping in step 2 is a **conformal transformation**, then the solution\n",
    "for the unit circle problem is guaranteed to be the solution for the\n",
    "actual problem. This is because conformal transforms preserve a lot of\n",
    "the important aspects of the flow, particularly the no-flow-through condition.\n",
    "\n",
    "In this notebook we will look at some examples of conformal transforms. Then, in\n",
    "the next notebook, we will explore flow fields for some basic problems."
   ]
  },
  {
   "cell_type": "code",
   "execution_count": null,
   "metadata": {},
   "outputs": [],
   "source": [
    "using FluidDynTools"
   ]
  },
  {
   "cell_type": "code",
   "execution_count": null,
   "metadata": {},
   "outputs": [],
   "source": [
    "using PotentialFlow\n",
    "using PotentialFlow.Bodies\n",
    "import PotentialFlow: Polygon"
   ]
  },
  {
   "cell_type": "code",
   "execution_count": null,
   "metadata": {},
   "outputs": [],
   "source": [
    "using Plots"
   ]
  },
  {
   "cell_type": "markdown",
   "metadata": {},
   "source": [
    "## Examples of conformal transforms\n",
    "A conformal transform has the general form $z(\\zeta)$, mapping points from the\n",
    "$\\zeta$ plane (where the circle lives) to the $z$ plane, where our \"real\"\n",
    "geometry lives. We will make use of a rigid-body transform to place the\n",
    "desired shape at the right spot at the right orientation.\n",
    "\n",
    "$$z(\\zeta) = Z_{r} + \\mathrm{e}^{\\mathrm{i}\\alpha} \\tilde{z}(\\zeta)$$\n",
    "\n",
    "Thus, the shape itself is specified by the conformal transform $\\tilde{z}(\\zeta)$,\n",
    "and $Z_{r}$ and $\\alpha$ specify the position and angle.\n",
    "\n",
    "We will look at two ways of constructing conformal transforms:\n",
    "1. By specifying the coefficients in a power series\n",
    "2. By a class of transforms that map a circle into a polygon\n",
    "\n",
    "### Power series bodies\n",
    "First, the power series type. To create a body shape, we specify the complex coefficients $c_{i}$ in the mapping\n",
    "\n",
    "\\begin{equation}\n",
    "\\tilde{z}(\\zeta) = c_{1}\\zeta + c_{0} + \\sum_{j=1}^{\\infty} \\frac{c_{-j}}{\\zeta^j}\n",
    "\\end{equation}\n",
    "\n",
    "The coefficients are specified in the order in which they appear in this series:\n",
    "`ccoeff[1]` $\\rightarrow c_{1}$, `ccoeff[2]` $\\rightarrow c_{0}$, `ccoeff[3]` $\\rightarrow c_{-1}$, and so on.\n",
    "\n",
    "Usually, we do not specify $c_{0}$, because we\n",
    "\n",
    "An elliptical body just consists of $c_{1}$ and $c_{-1}$, where $c_{1} = (a+b)/2$\n",
    "and $c_{-1} = (a-b)/2$, where $a$ and $b$ are the semi-major and minor axis lengths.\n",
    "We will place the body at the origin, rotated by $\\alpha = \\pi/4$. We use\n",
    "the `ConformalBody` function for this."
   ]
  },
  {
   "cell_type": "code",
   "execution_count": null,
   "metadata": {},
   "outputs": [],
   "source": [
    "a, b = 1, 0.1\n",
    "ccoeff = ComplexF64[0.5(a+b), 0, 0.5(a-b)]\n",
    "Zr = 0.0+0.0im\n",
    "α = π/4\n",
    "b = ConformalBody(ccoeff,Zr,α)\n",
    "plot(b)"
   ]
  },
  {
   "cell_type": "markdown",
   "metadata": {},
   "source": [
    "We can see how this mapping works by visualizing the gridlines in the circle ($\\zeta$) plane\n",
    "and the corresponding lines in the physical plane (the $z$ plane). Importantly,\n",
    "all of the"
   ]
  },
  {
   "cell_type": "code",
   "execution_count": null,
   "metadata": {},
   "outputs": [],
   "source": [
    "plot(b.m,size=(600,300))"
   ]
  },
  {
   "cell_type": "markdown",
   "metadata": {},
   "source": [
    "It is easy to get a flat plate from the ellipse by setting $b = 0$.\n",
    "\n",
    "More interesting shapes can be obtained by choosing the coefficients differently.\n",
    "There are a few rules on these coefficients:\n",
    "- $c_{1}$ must be present, and generally should be a positive real number. It\n",
    "  re-scales distances from the circle plane to the physical plane.\n",
    "- $c_{0}$ is usually zero.\n",
    "- The other coefficients are mostly free, but some combinations will break down.\n",
    "\n",
    "It is best to simply play around. Here is another one. Notice that\n",
    "we do not specify position or orientation here, so it defaults to the origin and\n",
    "zero angle."
   ]
  },
  {
   "cell_type": "code",
   "execution_count": null,
   "metadata": {},
   "outputs": [],
   "source": [
    "ccoeff = ComplexF64[1.0,0.0,0.0,0.1,0.1*exp(im*π/4)]\n",
    "b = ConformalBody(ccoeff)\n",
    "plot(b)"
   ]
  },
  {
   "cell_type": "markdown",
   "metadata": {},
   "source": [
    "### Polygonal bodies\n",
    "To create a polygonal body, we use a Schwarz-Christoffel conformal transformation,\n",
    "a general class of transformations that can map specific points on the\n",
    "circle to specified angles in the $z$ plane. That is done automatically by the\n",
    "`ConformalBody` function. We just need to provide it with a polygon.\n",
    "\n",
    "To set up a polygon, we specify the vertices in\n",
    "counterclockwise order, with coordinates provided in either (x,y) or complex notation."
   ]
  },
  {
   "cell_type": "code",
   "execution_count": null,
   "metadata": {},
   "outputs": [],
   "source": [
    "x = [-1.0,1.0,0.5,-0.5]\n",
    "y = [-1.0,-1.0,1.0,1.0]\n",
    "p = Polygon(x,y)\n",
    "b = ConformalBody(p)\n",
    "plot(b)"
   ]
  },
  {
   "cell_type": "markdown",
   "metadata": {},
   "source": [
    "This makes a simple trapezoid. Let's see the mapping more clearly"
   ]
  },
  {
   "cell_type": "code",
   "execution_count": null,
   "metadata": {},
   "outputs": [],
   "source": [
    "plot(b.m,size=(600,300))"
   ]
  },
  {
   "cell_type": "markdown",
   "metadata": {},
   "source": [
    "How about a star?"
   ]
  },
  {
   "cell_type": "code",
   "execution_count": null,
   "metadata": {},
   "outputs": [],
   "source": [
    "npts = 5\n",
    "dθ = 2π/(2npts)\n",
    "θ = collect(0:dθ:2π-dθ)\n",
    "w = (1 .+ 0.3cos.(npts*θ)).*exp.(im*θ) # the vertices\n",
    "p = Polygon(w)\n",
    "Zr = 0.0+0.0im\n",
    "α = dθ/2 # rotate to make one point of the star directed upward\n",
    "b = ConformalBody(p,Zr,α)\n",
    "plot(b)"
   ]
  },
  {
   "cell_type": "markdown",
   "metadata": {},
   "source": [
    "or an airfoil? Here, we use the NACA 4-digit series of airfoils, in\n",
    "which the first number specifies the camber, the second is the location\n",
    "of maximum camber, and the last two numbers the thickness. A NACA 4412\n",
    "has camber of 0.04 (relative to chord) located at 0.4 of the chord, and\n",
    "a thickness of 0.12. We implement this with a large\n",
    "number of vertices, so it looks smooth but actually it is a polygon!"
   ]
  },
  {
   "cell_type": "code",
   "execution_count": null,
   "metadata": {},
   "outputs": [],
   "source": [
    "w = naca4(0.04,0.4,0.12;len=1)\n",
    "p = Polygon(w)\n",
    "b = ConformalBody(p)\n",
    "plot(b)"
   ]
  },
  {
   "cell_type": "markdown",
   "metadata": {},
   "source": [
    "Finally, a polygon need not have an enclosed area, but rather can double back\n",
    "on itself, to form a set of linked lines with zero thickness. The `LinkedLines`\n",
    "function allows us to specify the vertices of the line segments."
   ]
  },
  {
   "cell_type": "code",
   "execution_count": null,
   "metadata": {},
   "outputs": [],
   "source": [
    "x = -0.5:0.1:0.5\n",
    "p = LinkedLines(x,0.1*sin.(8*x))\n",
    "b = ConformalBody(p)\n",
    "plot(b)"
   ]
  },
  {
   "cell_type": "markdown",
   "metadata": {},
   "source": [
    "Let's see how the transform looks in this case:"
   ]
  },
  {
   "cell_type": "code",
   "execution_count": null,
   "metadata": {},
   "outputs": [],
   "source": [
    "plot(b.m,size=(600,300))"
   ]
  },
  {
   "cell_type": "markdown",
   "metadata": {},
   "source": [
    "---\n",
    "\n",
    "*This notebook was generated using [Literate.jl](https://github.com/fredrikekre/Literate.jl).*"
   ]
  }
 ],
 "metadata": {
  "kernelspec": {
   "display_name": "Julia 1.8.5",
   "language": "julia",
   "name": "julia-1.8"
  },
  "language_info": {
   "file_extension": ".jl",
   "mimetype": "application/julia",
   "name": "julia",
   "version": "1.8.2"
  }
 },
 "nbformat": 4,
 "nbformat_minor": 4
}
