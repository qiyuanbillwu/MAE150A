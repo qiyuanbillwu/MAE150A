{
 "cells": [
  {
   "cell_type": "code",
   "execution_count": 1,
   "id": "2ad513d0-e819-499e-aa31-cb500f7d65fb",
   "metadata": {},
   "outputs": [],
   "source": [
    "using FluidDynTools\n",
    "using Gasdynamics1D"
   ]
  },
  {
   "cell_type": "code",
   "execution_count": 11,
   "id": "3f96549f-9e51-4e3d-8750-421030786f55",
   "metadata": {},
   "outputs": [
    {
     "data": {
      "text/plain": [
       "StagnationTemperature = 293.15 K"
      ]
     },
     "execution_count": 11,
     "metadata": {},
     "output_type": "execute_result"
    }
   ],
   "source": [
    "Ae_over_Astar = AreaRatio(5)\n",
    "p0 = StagnationPressure(800u\"kPa\")\n",
    "T0 = StagnationTemperature(20u\"°C\")"
   ]
  },
  {
   "cell_type": "code",
   "execution_count": 17,
   "id": "e9847c1e-a359-44df-934f-beea1ba1833c",
   "metadata": {},
   "outputs": [
    {
     "data": {
      "text/plain": [
       "StagnationTemperature = 293.15 K"
      ]
     },
     "execution_count": 17,
     "metadata": {},
     "output_type": "execute_result"
    }
   ],
   "source": [
    "T01 = T02 = T0"
   ]
  },
  {
   "cell_type": "code",
   "execution_count": 12,
   "id": "b6ece7b2-d5de-4439-98f9-d28fc79d22c5",
   "metadata": {},
   "outputs": [
    {
     "data": {
      "text/plain": [
       "MachNumber = 3.174780154165108"
      ]
     },
     "execution_count": 12,
     "metadata": {},
     "output_type": "execute_result"
    }
   ],
   "source": [
    "M1 = SupersonicMachNumber(Ae_over_Astar,Isentropic,gas=Air)"
   ]
  },
  {
   "cell_type": "code",
   "execution_count": 14,
   "id": "19e7576c-a4b3-4aa3-abfb-16993a58ee97",
   "metadata": {},
   "outputs": [
    {
     "data": {
      "text/plain": [
       "MachNumber = 0.46561464320204243"
      ]
     },
     "execution_count": 14,
     "metadata": {},
     "output_type": "execute_result"
    }
   ],
   "source": [
    "M2 = MachNumber(M1,NormalShock)"
   ]
  },
  {
   "cell_type": "code",
   "execution_count": 16,
   "id": "c9977bc7-dbd6-4e77-9e2c-4f978551177e",
   "metadata": {},
   "outputs": [
    {
     "data": {
      "text/plain": [
       "TemperatureRatio = 0.6389926088477748"
      ]
     },
     "execution_count": 16,
     "metadata": {},
     "output_type": "execute_result"
    }
   ],
   "source": [
    "T02_over_T0star = T0OverT0Star(M2,RayleighFlow,gas=Air)"
   ]
  },
  {
   "cell_type": "code",
   "execution_count": 20,
   "id": "b6bb0f04-bc43-4a58-b5db-147382c8e2aa",
   "metadata": {},
   "outputs": [
    {
     "data": {
      "text/plain": [
       "StagnationTemperature = 458.7689997363275 K"
      ]
     },
     "execution_count": 20,
     "metadata": {},
     "output_type": "execute_result"
    }
   ],
   "source": [
    "T0star = StagnationTemperature(T02 / T02_over_Tstar)"
   ]
  },
  {
   "cell_type": "code",
   "execution_count": 21,
   "id": "7f8262fe-f4f2-4674-a164-dba7409d3071",
   "metadata": {},
   "outputs": [
    {
     "data": {
      "text/plain": [
       "HeatFlux = 166364.285235141 J kg^-1"
      ]
     },
     "execution_count": 21,
     "metadata": {},
     "output_type": "execute_result"
    }
   ],
   "source": [
    "qstar = HeatFlux(T02,T0star,gas=Air)"
   ]
  },
  {
   "cell_type": "markdown",
   "id": "30e27245-b05f-471b-85bf-0e303cbd2f9b",
   "metadata": {},
   "source": [
    "3. Back Pressure"
   ]
  },
  {
   "cell_type": "code",
   "execution_count": 35,
   "id": "c80623aa-f3ce-406b-87aa-fa1592ce9cc4",
   "metadata": {},
   "outputs": [
    {
     "data": {
      "text/plain": [
       "PressureRatio = 47.63563576406853"
      ]
     },
     "execution_count": 35,
     "metadata": {},
     "output_type": "execute_result"
    }
   ],
   "source": [
    "p0_over_p1 = P0OverP(M1,Isentropic)"
   ]
  },
  {
   "cell_type": "code",
   "execution_count": 36,
   "id": "a6741a31-aae7-4999-9c79-f8e0c5d6481f",
   "metadata": {},
   "outputs": [
    {
     "data": {
      "text/plain": [
       "16794.149740380675 Pa"
      ]
     },
     "execution_count": 36,
     "metadata": {},
     "output_type": "execute_result"
    }
   ],
   "source": [
    "p1 = p0 / p0_over_p1"
   ]
  },
  {
   "cell_type": "code",
   "execution_count": 38,
   "id": "13108691-9bf5-4e9d-9285-0edd7c578c1d",
   "metadata": {},
   "outputs": [
    {
     "data": {
      "text/plain": [
       "PressureRatio = 11.592433865160732"
      ]
     },
     "execution_count": 38,
     "metadata": {},
     "output_type": "execute_result"
    }
   ],
   "source": [
    "p2_over_p1 = PressureRatio(M1,NormalShock)"
   ]
  },
  {
   "cell_type": "code",
   "execution_count": 39,
   "id": "82490ca9-f237-4ed8-8ae2-bc4c5a95b2ad",
   "metadata": {},
   "outputs": [
    {
     "data": {
      "text/plain": [
       "194685.07018696927 Pa"
      ]
     },
     "execution_count": 39,
     "metadata": {},
     "output_type": "execute_result"
    }
   ],
   "source": [
    "p2 = p2_over_p1 * p1"
   ]
  },
  {
   "cell_type": "code",
   "execution_count": 40,
   "id": "ffa8fa3c-fd14-4185-925e-45e7143ad507",
   "metadata": {},
   "outputs": [
    {
     "data": {
      "text/plain": [
       "PressureRatio = 1.8411744686201321"
      ]
     },
     "execution_count": 40,
     "metadata": {},
     "output_type": "execute_result"
    }
   ],
   "source": [
    "p2_over_pstar = POverPStar(M2,RayleighFlow)"
   ]
  },
  {
   "cell_type": "code",
   "execution_count": 41,
   "id": "be2d681a-dc18-49ef-81e6-26bdd394a7cc",
   "metadata": {},
   "outputs": [
    {
     "data": {
      "text/plain": [
       "105739.60996367496 Pa"
      ]
     },
     "execution_count": 41,
     "metadata": {},
     "output_type": "execute_result"
    }
   ],
   "source": [
    "pstar = p2 / p2_over_pstar"
   ]
  },
  {
   "cell_type": "code",
   "execution_count": null,
   "id": "255acaed-4cc6-4335-96ca-d0ce6a85a8f8",
   "metadata": {},
   "outputs": [],
   "source": []
  }
 ],
 "metadata": {
  "kernelspec": {
   "display_name": "Julia 1.9.3",
   "language": "julia",
   "name": "julia-1.9"
  },
  "language_info": {
   "file_extension": ".jl",
   "mimetype": "application/julia",
   "name": "julia",
   "version": "1.9.3"
  }
 },
 "nbformat": 4,
 "nbformat_minor": 5
}
