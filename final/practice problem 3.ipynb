{
 "cells": [
  {
   "cell_type": "code",
   "execution_count": 1,
   "id": "359563a2-14df-47a1-8ced-7683ece5d134",
   "metadata": {},
   "outputs": [],
   "source": [
    "using FluidDynTools\n",
    "using Gasdynamics1D"
   ]
  },
  {
   "cell_type": "code",
   "execution_count": 2,
   "id": "f12d2e59-af05-468e-815d-32ad89965a05",
   "metadata": {},
   "outputs": [
    {
     "data": {
      "text/plain": [
       "Velocity = 171.5 m s^-1"
      ]
     },
     "execution_count": 2,
     "metadata": {},
     "output_type": "execute_result"
    }
   ],
   "source": [
    "up = Velocity(171.5)"
   ]
  },
  {
   "cell_type": "code",
   "execution_count": 3,
   "id": "92dd26a0-3457-4e6a-b72f-fd18fd2f5419",
   "metadata": {},
   "outputs": [
    {
     "data": {
      "text/plain": [
       "Temperature = 293.15 K"
      ]
     },
     "execution_count": 3,
     "metadata": {},
     "output_type": "execute_result"
    }
   ],
   "source": [
    "Tp = Temperature(20u\"°C\")"
   ]
  },
  {
   "cell_type": "code",
   "execution_count": 4,
   "id": "b3aec894-4782-4372-ace8-ff65995ff191",
   "metadata": {},
   "outputs": [
    {
     "data": {
      "text/plain": [
       "SoundSpeed = 343.20208332701003 m s^-1"
      ]
     },
     "execution_count": 4,
     "metadata": {},
     "output_type": "execute_result"
    }
   ],
   "source": [
    "cp = SoundSpeed(Tp)"
   ]
  },
  {
   "cell_type": "code",
   "execution_count": 5,
   "id": "e62923e3-8cc0-42bf-8b16-0411af59882f",
   "metadata": {},
   "outputs": [
    {
     "data": {
      "text/plain": [
       "MachNumber = 0.4997055913457007"
      ]
     },
     "execution_count": 5,
     "metadata": {},
     "output_type": "execute_result"
    }
   ],
   "source": [
    "Mp = MachNumber(up/cp)"
   ]
  },
  {
   "cell_type": "code",
   "execution_count": 8,
   "id": "adaef71f-0552-4203-970f-69c481a037fb",
   "metadata": {},
   "outputs": [
    {
     "data": {
      "text/plain": [
       "Length = 0.12 m"
      ]
     },
     "execution_count": 8,
     "metadata": {},
     "output_type": "execute_result"
    }
   ],
   "source": [
    "Dp = Length(12u\"cm\")"
   ]
  },
  {
   "cell_type": "code",
   "execution_count": 11,
   "id": "a67c5c8e-16ef-4ffe-9c81-590b1dc233a4",
   "metadata": {},
   "outputs": [
    {
     "data": {
      "text/plain": [
       "Area = 0.011309733552923255 m^2"
      ]
     },
     "execution_count": 11,
     "metadata": {},
     "output_type": "execute_result"
    }
   ],
   "source": [
    "Ap = Area(pi*Dp^2/4)\n",
    "A1 = Ap"
   ]
  },
  {
   "cell_type": "code",
   "execution_count": 13,
   "id": "ba0ed72c-7982-4cf7-9aee-387bb0f344ba",
   "metadata": {},
   "outputs": [
    {
     "data": {
      "text/plain": [
       "AreaRatio = 1.3404076776095069"
      ]
     },
     "execution_count": 13,
     "metadata": {},
     "output_type": "execute_result"
    }
   ],
   "source": [
    "Ap_over_Astar = AOverAStar(Mp)"
   ]
  },
  {
   "cell_type": "code",
   "execution_count": 14,
   "id": "0a820dd5-c046-4c4b-b6fb-0918c2d50bda",
   "metadata": {},
   "outputs": [
    {
     "data": {
      "text/plain": [
       "AreaRatio = 1.3404076776095069"
      ]
     },
     "execution_count": 14,
     "metadata": {},
     "output_type": "execute_result"
    }
   ],
   "source": [
    "A1_over_Astar = Ap_over_Astar"
   ]
  },
  {
   "cell_type": "code",
   "execution_count": 17,
   "id": "afe86c4f-bed4-47de-8bd1-66c2c9819f83",
   "metadata": {},
   "outputs": [
    {
     "data": {
      "text/plain": [
       "MachNumber = 1.7029659710779959"
      ]
     },
     "execution_count": 17,
     "metadata": {},
     "output_type": "execute_result"
    }
   ],
   "source": [
    "M1 = SupersonicMachNumber(A1_over_Astar,Isentropic)"
   ]
  },
  {
   "cell_type": "code",
   "execution_count": 18,
   "id": "affab42c-9e84-4180-83e0-e4d9aa64b974",
   "metadata": {},
   "outputs": [
    {
     "data": {
      "text/plain": [
       "MachNumber = 0.6397792021309698"
      ]
     },
     "execution_count": 18,
     "metadata": {},
     "output_type": "execute_result"
    }
   ],
   "source": [
    "M2 = MachNumber(M1,NormalShock)"
   ]
  },
  {
   "cell_type": "code",
   "execution_count": 19,
   "id": "9a1106b2-9b11-4467-935d-45321e23c568",
   "metadata": {},
   "outputs": [
    {
     "data": {
      "text/plain": [
       "Pressure = 101325.0 Pa"
      ]
     },
     "execution_count": 19,
     "metadata": {},
     "output_type": "execute_result"
    }
   ],
   "source": [
    "pb = Pressure(1u\"atm\")"
   ]
  },
  {
   "cell_type": "code",
   "execution_count": 20,
   "id": "d4aa93c1-9fb0-4144-9091-1e92a577d5fe",
   "metadata": {},
   "outputs": [
    {
     "data": {
      "text/plain": [
       "PressureRatio = 3.216775281757892"
      ]
     },
     "execution_count": 20,
     "metadata": {},
     "output_type": "execute_result"
    }
   ],
   "source": [
    "pb_over_p1 = PressureRatio(M1,NormalShock)"
   ]
  },
  {
   "cell_type": "code",
   "execution_count": 21,
   "id": "2160481d-792c-434e-8e25-ad51f35e9792",
   "metadata": {},
   "outputs": [
    {
     "data": {
      "text/plain": [
       "31498.936395901514 Pa"
      ]
     },
     "execution_count": 21,
     "metadata": {},
     "output_type": "execute_result"
    }
   ],
   "source": [
    "p1 = pb / pb_over_p1"
   ]
  },
  {
   "cell_type": "code",
   "execution_count": 22,
   "id": "c6705d5f-9061-410f-8f84-b5783f0b12e3",
   "metadata": {},
   "outputs": [
    {
     "data": {
      "text/plain": [
       "Pressure = 101325.0 Pa"
      ]
     },
     "execution_count": 22,
     "metadata": {},
     "output_type": "execute_result"
    }
   ],
   "source": [
    "pL = pb"
   ]
  },
  {
   "cell_type": "code",
   "execution_count": 26,
   "id": "1c93112f-8408-4e78-a1c5-aa1252347419",
   "metadata": {},
   "outputs": [
    {
     "data": {
      "text/plain": [
       "PressureRatio = 1.1859799020545967"
      ]
     },
     "execution_count": 26,
     "metadata": {},
     "output_type": "execute_result"
    }
   ],
   "source": [
    "p0_over_pR = P0OverP(Mp, Isentropic)"
   ]
  },
  {
   "cell_type": "code",
   "execution_count": 27,
   "id": "eba9efa1-8424-4b53-a031-be52962a595d",
   "metadata": {},
   "outputs": [
    {
     "data": {
      "text/plain": [
       "PressureRatio = 4.958127804098501"
      ]
     },
     "execution_count": 27,
     "metadata": {},
     "output_type": "execute_result"
    }
   ],
   "source": [
    "p0_over_p1 = P0OverP(M1, Isentropic)"
   ]
  },
  {
   "cell_type": "code",
   "execution_count": 28,
   "id": "cefa6881-7d52-4b17-a162-da5aa7097c2e",
   "metadata": {},
   "outputs": [
    {
     "data": {
      "text/plain": [
       "131684.99067605613 Pa"
      ]
     },
     "execution_count": 28,
     "metadata": {},
     "output_type": "execute_result"
    }
   ],
   "source": [
    "pR = p1 * p0_over_p1 / p0_over_pR"
   ]
  },
  {
   "cell_type": "code",
   "execution_count": 29,
   "id": "8f899f8a-a79f-4899-ad98-66bf2b04aebc",
   "metadata": {},
   "outputs": [
    {
     "data": {
      "text/plain": [
       "30359.990676056128 Pa"
      ]
     },
     "execution_count": 29,
     "metadata": {},
     "output_type": "execute_result"
    }
   ],
   "source": [
    "Δp = pR - pL"
   ]
  },
  {
   "cell_type": "code",
   "execution_count": 31,
   "id": "462529d8-5841-4395-812a-7cbd0ef755ef",
   "metadata": {},
   "outputs": [
    {
     "data": {
      "text/plain": [
       "Force = 343.36340521542917 N"
      ]
     },
     "execution_count": 31,
     "metadata": {},
     "output_type": "execute_result"
    }
   ],
   "source": [
    "Fp = Force(Δp * Ap)"
   ]
  },
  {
   "cell_type": "code",
   "execution_count": 32,
   "id": "652cbb6c-a2bc-4bc9-8c08-0c009373c410",
   "metadata": {},
   "outputs": [
    {
     "data": {
      "text/plain": [
       "156175.7523440495 Pa"
      ]
     },
     "execution_count": 32,
     "metadata": {},
     "output_type": "execute_result"
    }
   ],
   "source": [
    "p0 = p1 * p0_over_p1"
   ]
  },
  {
   "cell_type": "code",
   "execution_count": 34,
   "id": "261c7fa1-45a1-4aec-813d-6cc70ce3093a",
   "metadata": {},
   "outputs": [
    {
     "data": {
      "text/plain": [
       "0.008437532656552012 m^2"
      ]
     },
     "execution_count": 34,
     "metadata": {},
     "output_type": "execute_result"
    }
   ],
   "source": [
    "At = Astar = A1 / A1_over_Astar "
   ]
  },
  {
   "cell_type": "code",
   "execution_count": 35,
   "id": "76d89216-e865-4a0c-b4f4-c2fd2cce6b90",
   "metadata": {},
   "outputs": [
    {
     "data": {
      "text/plain": [
       "TemperatureRatio = 1.0499411356044313"
      ]
     },
     "execution_count": 35,
     "metadata": {},
     "output_type": "execute_result"
    }
   ],
   "source": [
    "T0_over_Tp = T0OverT(Mp, Isentropic)"
   ]
  },
  {
   "cell_type": "code",
   "execution_count": 36,
   "id": "fa5364fd-d0e3-443e-af05-cbb78ab5f23e",
   "metadata": {},
   "outputs": [
    {
     "data": {
      "text/plain": [
       "307.790243902439 K"
      ]
     },
     "execution_count": 36,
     "metadata": {},
     "output_type": "execute_result"
    }
   ],
   "source": [
    "T0 = T0_over_Tp * Tp"
   ]
  },
  {
   "cell_type": "code",
   "execution_count": null,
   "id": "68db3c9c-c672-4a33-a7bc-81cd0918e200",
   "metadata": {},
   "outputs": [],
   "source": []
  }
 ],
 "metadata": {
  "kernelspec": {
   "display_name": "Julia 1.9.3",
   "language": "julia",
   "name": "julia-1.9"
  },
  "language_info": {
   "file_extension": ".jl",
   "mimetype": "application/julia",
   "name": "julia",
   "version": "1.9.3"
  }
 },
 "nbformat": 4,
 "nbformat_minor": 5
}
