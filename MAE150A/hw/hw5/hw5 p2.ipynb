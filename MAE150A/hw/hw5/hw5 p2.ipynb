{
 "cells": [
  {
   "cell_type": "code",
   "execution_count": 2,
   "id": "334d85ea-ebae-4dac-996a-36d9bc1f2ba2",
   "metadata": {},
   "outputs": [],
   "source": [
    "using FluidDynTools\n",
    "using Gasdynamics1D"
   ]
  },
  {
   "cell_type": "code",
   "execution_count": 4,
   "id": "e5696ec5-4bfb-4b17-b1f1-ca3dfa8be6cf",
   "metadata": {},
   "outputs": [
    {
     "data": {
      "text/plain": [
       "MachNumber = 0.4481105193776658"
      ]
     },
     "execution_count": 4,
     "metadata": {},
     "output_type": "execute_result"
    }
   ],
   "source": [
    "M1 = MachNumber(3)\n",
    "M2 = MachNumber(M1,NormalShock, gas=CO2)"
   ]
  },
  {
   "cell_type": "code",
   "execution_count": 7,
   "id": "336fefb3-f43e-4b83-9b52-90c56c5054d6",
   "metadata": {},
   "outputs": [
    {
     "data": {
      "text/plain": [
       "PressureRatio = 10.010048055919617"
      ]
     },
     "execution_count": 7,
     "metadata": {},
     "output_type": "execute_result"
    }
   ],
   "source": [
    "p2_over_p1 = PressureRatio(M1,NormalShock,gas=CO2)"
   ]
  },
  {
   "cell_type": "code",
   "execution_count": 5,
   "id": "432a47ad-f5ad-4483-abdd-7afaf9f80cf1",
   "metadata": {},
   "outputs": [
    {
     "data": {
      "text/plain": [
       "StagnationPressureRatio = 0.2767191437934049"
      ]
     },
     "execution_count": 5,
     "metadata": {},
     "output_type": "execute_result"
    }
   ],
   "source": [
    "p02_over_p01 = StagnationPressureRatio(M1,NormalShock, gas=CO2)"
   ]
  },
  {
   "cell_type": "code",
   "execution_count": null,
   "id": "23ad54d9-f474-41f9-a551-d117ae096670",
   "metadata": {},
   "outputs": [],
   "source": []
  }
 ],
 "metadata": {
  "kernelspec": {
   "display_name": "Julia 1.9.3",
   "language": "julia",
   "name": "julia-1.9"
  },
  "language_info": {
   "file_extension": ".jl",
   "mimetype": "application/julia",
   "name": "julia",
   "version": "1.9.3"
  }
 },
 "nbformat": 4,
 "nbformat_minor": 5
}
