{
 "cells": [
  {
   "cell_type": "code",
   "execution_count": 2,
   "id": "efe8295d-8dd4-49ae-a14b-adf3c7147d20",
   "metadata": {},
   "outputs": [],
   "source": [
    "using FluidDynTools\n",
    "using PotentialFlow\n",
    "using ViscousFlow\n",
    "using Plots"
   ]
  },
  {
   "cell_type": "code",
   "execution_count": 3,
   "id": "3e8921ac-c9f7-4b9a-a3f3-c9fab4e85617",
   "metadata": {},
   "outputs": [
    {
     "data": {
      "text/plain": [
       "PhysicalGrid{2}((202, 202), (101, 101), 0.02, ((-2.0, 2.0), (-2.0, 2.0)), 16)"
      ]
     },
     "execution_count": 3,
     "metadata": {},
     "output_type": "execute_result"
    }
   ],
   "source": [
    "# grid cell size\n",
    "Δx = 0.02\n",
    "\n",
    "# set the size of a region in which to set up the flow.\n",
    "xlim = (-2,2)\n",
    "ylim = (-2,2)\n",
    "\n",
    "# make the grid\n",
    "g = PhysicalGrid(xlim,ylim,Δx)"
   ]
  },
  {
   "cell_type": "code",
   "execution_count": 4,
   "id": "49b0bfb9-1581-4826-b4e8-2eb7aa9642a7",
   "metadata": {},
   "outputs": [],
   "source": [
    "cache = GridCache(g)\n",
    "ψ = zeros_gridcurl(cache)\n",
    "vel = zeros_gridgrad(cache);"
   ]
  },
  {
   "cell_type": "code",
   "execution_count": 5,
   "id": "8249751a-cf57-459d-aaa4-8483d3133091",
   "metadata": {},
   "outputs": [
    {
     "data": {
      "text/plain": [
       "Float64[]"
      ]
     },
     "execution_count": 5,
     "metadata": {},
     "output_type": "execute_result"
    }
   ],
   "source": [
    "zvort = ComplexF64[]\n",
    "Γvort = Float64[]"
   ]
  },
  {
   "cell_type": "code",
   "execution_count": 6,
   "id": "04d6ae43-60be-4d59-8818-4ef40fb72657",
   "metadata": {},
   "outputs": [
    {
     "data": {
      "text/plain": [
       "1-element Vector{Float64}:\n",
       " 1.0"
      ]
     },
     "execution_count": 6,
     "metadata": {},
     "output_type": "execute_result"
    }
   ],
   "source": [
    "push!(zvort,1.0+1.0im)\n",
    "push!(Γvort,1.0)"
   ]
  },
  {
   "cell_type": "code",
   "execution_count": 7,
   "id": "def46c1d-8b84-49fb-a327-c9a3369a52ce",
   "metadata": {},
   "outputs": [
    {
     "data": {
      "text/plain": [
       "2-element Vector{Float64}:\n",
       "  1.0\n",
       " -1.0"
      ]
     },
     "execution_count": 7,
     "metadata": {},
     "output_type": "execute_result"
    }
   ],
   "source": [
    "push!(zvort,1.0-1.0im)\n",
    "push!(Γvort,-1.0)"
   ]
  },
  {
   "cell_type": "code",
   "execution_count": 8,
   "id": "56d3418f-e5fe-4004-b0bc-31ab026a9ee6",
   "metadata": {},
   "outputs": [
    {
     "data": {
      "text/plain": [
       "3-element Vector{Float64}:\n",
       "  1.0\n",
       " -1.0\n",
       "  1.0"
      ]
     },
     "execution_count": 8,
     "metadata": {},
     "output_type": "execute_result"
    }
   ],
   "source": [
    "push!(zvort,-1.0-1.0im)\n",
    "push!(Γvort,1.0)"
   ]
  },
  {
   "cell_type": "code",
   "execution_count": 9,
   "id": "c8a059b4-3fb9-4d91-8e4e-9ad348a05d36",
   "metadata": {},
   "outputs": [
    {
     "data": {
      "text/plain": [
       "4-element Vector{Float64}:\n",
       "  1.0\n",
       " -1.0\n",
       "  1.0\n",
       " -1.0"
      ]
     },
     "execution_count": 9,
     "metadata": {},
     "output_type": "execute_result"
    }
   ],
   "source": [
    "push!(zvort,-1.0+1.0im)\n",
    "push!(Γvort,-1.0)"
   ]
  },
  {
   "cell_type": "code",
   "execution_count": 10,
   "id": "5a577fa1-128f-472e-8162-c1ab01c46cda",
   "metadata": {},
   "outputs": [
    {
     "data": {
      "text/plain": [
       "4-element Vector{PotentialFlow.Points.Point{Float64, Float64}}:\n",
       " Vortex.Point(1.0 + 1.0im, 1.0)\n",
       " Vortex.Point(1.0 - 1.0im, -1.0)\n",
       " Vortex.Point(-1.0 - 1.0im, 1.0)\n",
       " Vortex.Point(-1.0 + 1.0im, -1.0)"
      ]
     },
     "execution_count": 10,
     "metadata": {},
     "output_type": "execute_result"
    }
   ],
   "source": [
    "v = Vortex.Point.(zvort,Γvort)"
   ]
  },
  {
   "cell_type": "code",
   "execution_count": 11,
   "id": "1d3c596c-99f3-4d1b-8886-bf0c9b1238bc",
   "metadata": {},
   "outputs": [
    {
     "data": {
      "text/plain": [
       "\"C:\\\\Users\\\\bill\\\\MAE150A\\\\hw\\\\hw2_p4.png\""
      ]
     },
     "execution_count": 11,
     "metadata": {},
     "output_type": "execute_result"
    }
   ],
   "source": [
    "ViscousFlow.streamfunction!(ψ,v,cache)\n",
    "p = plot(ψ,cache,color=:black,levels=range(-1,1,length=15),xlim=(-2,2),ylim=(-2,2),xlabel=L\"x\",ylabel=L\"y\",title=\"vortex in a corner\",show=true)\n",
    "plot!(p,v) ## This adds markers for the vortices\n",
    "\n",
    "x = [-1, 0 ,0, 1]\n",
    "y = [0, -1, 1, 0]\n",
    "u0 = [-0.25, 0.0, 0.0,0.25]\n",
    "v0 = [0, 0.25, -0.25,0]\n",
    "quiver!(x,y,quiver=(u0,v0))\n",
    "savefig(\"hw2_p4.png\")"
   ]
  },
  {
   "cell_type": "code",
   "execution_count": 12,
   "id": "6565468d-b545-4547-a97c-743e5cb9ea9b",
   "metadata": {},
   "outputs": [
    {
     "data": {
      "text/plain": [
       "0.0 - 0.25464790894703254im"
      ]
     },
     "execution_count": 12,
     "metadata": {},
     "output_type": "execute_result"
    }
   ],
   "source": [
    "z_eval = 0.0+1.0*im\n",
    "induce_velocity(z_eval,v,0.0)"
   ]
  },
  {
   "cell_type": "code",
   "execution_count": null,
   "id": "9086843b-a888-4d4d-b868-b1cb42f95723",
   "metadata": {},
   "outputs": [],
   "source": []
  }
 ],
 "metadata": {
  "kernelspec": {
   "display_name": "Julia 1.9.3",
   "language": "julia",
   "name": "julia-1.9"
  },
  "language_info": {
   "file_extension": ".jl",
   "mimetype": "application/julia",
   "name": "julia",
   "version": "1.9.3"
  }
 },
 "nbformat": 4,
 "nbformat_minor": 5
}
