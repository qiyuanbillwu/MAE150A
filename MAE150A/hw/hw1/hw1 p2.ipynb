{
 "cells": [
  {
   "cell_type": "code",
   "execution_count": 2,
   "id": "86b35a6f-9c3c-4d29-abf7-6fb0a1fe1031",
   "metadata": {},
   "outputs": [],
   "source": [
    "using FluidDynTools"
   ]
  },
  {
   "cell_type": "code",
   "execution_count": 3,
   "id": "ae0041ca-01fb-4731-98ae-8410d5dea14f",
   "metadata": {},
   "outputs": [],
   "source": [
    "using Plots"
   ]
  },
  {
   "cell_type": "code",
   "execution_count": 4,
   "id": "e1d246f4-2e6c-48ce-9c54-69cd429275d9",
   "metadata": {},
   "outputs": [],
   "source": [
    "using SpecialFunctions"
   ]
  },
  {
   "cell_type": "code",
   "execution_count": 5,
   "id": "9c9038c1-edcd-40ff-891f-bb79c5fcb23e",
   "metadata": {},
   "outputs": [
    {
     "data": {
      "text/plain": [
       "u (generic function with 1 method)"
      ]
     },
     "execution_count": 5,
     "metadata": {},
     "output_type": "execute_result"
    }
   ],
   "source": [
    "u(y,nu,t) = (1-erf(y/(2*sqrt(nu*t))))"
   ]
  },
  {
   "cell_type": "code",
   "execution_count": 6,
   "id": "4302fee1-6591-46fd-9330-75c58bd68a68",
   "metadata": {},
   "outputs": [
    {
     "data": {
      "text/plain": [
       "KinematicViscosity = 1.0 m^2 s^-1"
      ]
     },
     "execution_count": 6,
     "metadata": {},
     "output_type": "execute_result"
    }
   ],
   "source": [
    "nu = KinematicViscosity(1)"
   ]
  },
  {
   "cell_type": "code",
   "execution_count": 7,
   "id": "aaba8cf3-98bb-412e-ad33-c865745bfd4f",
   "metadata": {},
   "outputs": [
    {
     "data": {
      "text/plain": [
       "10 s"
      ]
     },
     "execution_count": 7,
     "metadata": {},
     "output_type": "execute_result"
    }
   ],
   "source": [
    "t1 = 0.1u\"s\"\n",
    "t2 = 1u\"s\"\n",
    "t3 = 10u\"s\""
   ]
  },
  {
   "cell_type": "code",
   "execution_count": 8,
   "id": "c16b37ce-db6c-444a-87ea-8ac90d345f3e",
   "metadata": {},
   "outputs": [
    {
     "data": {
      "text/plain": [
       "(0.0:0.2:20.0) m"
      ]
     },
     "execution_count": 8,
     "metadata": {},
     "output_type": "execute_result"
    }
   ],
   "source": [
    "y1 = range(0u\"m\",2u\"m\",length=101)\n",
    "y2 = range(0u\"m\",8u\"m\",length=101)\n",
    "y3 = range(0u\"m\",20u\"m\",length=101)"
   ]
  },
  {
   "cell_type": "code",
   "execution_count": 9,
   "id": "409eca20-de3c-4cde-9a79-288b3f3f3e57",
   "metadata": {
    "scrolled": true
   },
   "outputs": [
    {
     "data": {
      "text/plain": [
       "101-element Vector{Float64}:\n",
       " 1.0\n",
       " 0.9643294082703201\n",
       " 0.9287300745648026\n",
       " 0.8932728301422118\n",
       " 0.8580276569875211\n",
       " 0.8230632737581215\n",
       " 0.788446734264471\n",
       " 0.7542430423910373\n",
       " 0.7205147871362553\n",
       " 0.6873218011739947\n",
       " 0.654720846018577\n",
       " 0.6227653265162957\n",
       " 0.5915050369949165\n",
       " ⋮\n",
       " 6.885702262660054e-5\n",
       " 5.699411623327766e-5\n",
       " 4.708508681605661e-5\n",
       " 3.8824656203861885e-5\n",
       " 3.195229760633023e-5\n",
       " 2.6246182954436925e-5\n",
       " 2.1517864378095553e-5\n",
       " 1.760761440328107e-5\n",
       " 1.4380355041199167e-5\n",
       " 1.1722111469492091e-5\n",
       " 9.536931399933835e-6\n",
       " 7.744216431015971e-6"
      ]
     },
     "execution_count": 9,
     "metadata": {},
     "output_type": "execute_result"
    }
   ],
   "source": [
    "v1 = u.(y1,nu,t1)\n",
    "v2 = u.(y2,nu,t2)\n",
    "v3 = u.(y3,nu,t3)"
   ]
  },
  {
   "cell_type": "code",
   "execution_count": 15,
   "id": "e52f06f2-be2f-4a9d-8e7f-c0163da1a703",
   "metadata": {
    "scrolled": true
   },
   "outputs": [
    {
     "data": {
      "text/plain": [
       "\"C:\\\\Users\\\\bill\\\\MAE150A\\\\hw\\\\my_plot.png\""
      ]
     },
     "execution_count": 15,
     "metadata": {},
     "output_type": "execute_result"
    }
   ],
   "source": [
    "plot(v1,y1,xlim=(0,Inf),ylim=(0,Inf),xlabel=L\"u(y)/U\",ylabel=L\"y\",label=\"t = 0.1s\", legend=true)\n",
    "savefig(\"my_plot.png\")"
   ]
  },
  {
   "cell_type": "code",
   "execution_count": 13,
   "id": "1a25d683-1f51-4239-b2e8-09576bc99aef",
   "metadata": {},
   "outputs": [
    {
     "data": {
      "text/plain": [
       "\"C:\\\\Users\\\\bill\\\\MAE150A\\\\hw\\\\my_plot1.png\""
      ]
     },
     "execution_count": 13,
     "metadata": {},
     "output_type": "execute_result"
    }
   ],
   "source": [
    "plot(v2,y2,xlim=(0,Inf),ylim=(0,Inf),xlabel=L\"u(y)/U\",ylabel=L\"y\",label=\"t = 1s\", legend=true)\n",
    "savefig(\"my_plot1.png\")"
   ]
  },
  {
   "cell_type": "code",
   "execution_count": 14,
   "id": "a983dc4b-94ea-4914-8bc3-940e272e7934",
   "metadata": {},
   "outputs": [
    {
     "data": {
      "text/plain": [
       "\"C:\\\\Users\\\\bill\\\\MAE150A\\\\hw\\\\my_plot2.png\""
      ]
     },
     "execution_count": 14,
     "metadata": {},
     "output_type": "execute_result"
    }
   ],
   "source": [
    "plot(v3,y3,xlim=(0,Inf),ylim=(0,Inf),xlabel=L\"u(y)/U\",ylabel=L\"y\",label=\"t = 10s\", legend=true)\n",
    "savefig(\"my_plot2.png\")"
   ]
  },
  {
   "cell_type": "code",
   "execution_count": null,
   "id": "1e1d7689-076c-46fd-b131-fe59e3a5e82c",
   "metadata": {},
   "outputs": [],
   "source": []
  }
 ],
 "metadata": {
  "kernelspec": {
   "display_name": "Julia 1.9.3",
   "language": "julia",
   "name": "julia-1.9"
  },
  "language_info": {
   "file_extension": ".jl",
   "mimetype": "application/julia",
   "name": "julia",
   "version": "1.9.3"
  }
 },
 "nbformat": 4,
 "nbformat_minor": 5
}
