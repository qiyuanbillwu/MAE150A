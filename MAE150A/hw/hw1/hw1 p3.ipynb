{
 "cells": [
  {
   "cell_type": "code",
   "execution_count": 2,
   "id": "26a6b78e-3b6e-4a20-adb4-b41e2171c6be",
   "metadata": {},
   "outputs": [],
   "source": [
    "using FluidDynTools\n",
    "using ViscousFlow\n",
    "using Plots"
   ]
  },
  {
   "cell_type": "code",
   "execution_count": 3,
   "id": "a0aad23c-2a48-472d-a1eb-7d0a5f466716",
   "metadata": {},
   "outputs": [],
   "source": [
    "filename = \"NACA4415Re500.jld2\"\n",
    "u, t, sys = load_ns_solution(filename);"
   ]
  },
  {
   "cell_type": "code",
   "execution_count": 4,
   "id": "15c34081-392e-46a6-8522-454b155b4bff",
   "metadata": {},
   "outputs": [],
   "source": [
    "vel = ViscousFlow.velocity(u,sys,t);"
   ]
  },
  {
   "cell_type": "code",
   "execution_count": 5,
   "id": "4c264ec1-6852-4dd7-a3fc-0068e128db9c",
   "metadata": {},
   "outputs": [],
   "source": [
    "pts = [[-1,-0.013], [-1,-0.015]];"
   ]
  },
  {
   "cell_type": "code",
   "execution_count": 6,
   "id": "9fceca41-519a-4180-bbbc-62a2ea9230d4",
   "metadata": {},
   "outputs": [],
   "source": [
    "Trange = (0.0,25.0);"
   ]
  },
  {
   "cell_type": "code",
   "execution_count": null,
   "id": "98914d06-843f-451c-83f7-7d6ac900f0db",
   "metadata": {},
   "outputs": [],
   "source": [
    "traj_array = compute_trajectory(vel,sys,pts,Trange);"
   ]
  },
  {
   "cell_type": "code",
   "execution_count": null,
   "id": "d1fff752-9371-4fc4-b619-dea1d80e0a6c",
   "metadata": {},
   "outputs": [],
   "source": [
    "trajectories(traj_array,sys,xlim=(-1,2),label=nothing)\n",
    "scatter!([-0.44], [0.015], markercolor=:red, markersize=3, label=\"Stagnation Point (-0.44, 0.015)\", legend=true)\n",
    "savefig(\"my_plot.png\")"
   ]
  },
  {
   "cell_type": "code",
   "execution_count": null,
   "id": "f2936d12-45f4-454e-a48b-d46050726e87",
   "metadata": {},
   "outputs": [],
   "source": []
  },
  {
   "cell_type": "code",
   "execution_count": null,
   "id": "1b6b3d20-c567-45b0-a70d-72022990ed8e",
   "metadata": {},
   "outputs": [],
   "source": []
  }
 ],
 "metadata": {
  "kernelspec": {
   "display_name": "Julia 1.9.3",
   "language": "julia",
   "name": "julia-1.9"
  },
  "language_info": {
   "file_extension": ".jl",
   "mimetype": "application/julia",
   "name": "julia",
   "version": "1.9.3"
  }
 },
 "nbformat": 4,
 "nbformat_minor": 5
}
