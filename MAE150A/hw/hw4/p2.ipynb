{
 "cells": [
  {
   "cell_type": "code",
   "execution_count": 34,
   "id": "3b77cdb6-ddad-4528-bb93-7f6213a179be",
   "metadata": {},
   "outputs": [],
   "source": [
    "using FluidDynTools\n",
    "using Plots"
   ]
  },
  {
   "cell_type": "code",
   "execution_count": 35,
   "id": "71e3020d-47bf-474f-9404-60bda4bed398",
   "metadata": {},
   "outputs": [],
   "source": [
    "β = 0.0\n",
    "u1, η1, d991, dstar1, theta1, Cf1 = falknerskan(β); # I used more descriptive symbols that C1, C2, C3, C4"
   ]
  },
  {
   "cell_type": "code",
   "execution_count": 36,
   "id": "8d00027d-9ea7-4980-82b7-bb9f0caeacec",
   "metadata": {},
   "outputs": [],
   "source": [
    "β = -0.1988\n",
    "u2, η2, d992, dstar2, theta2, Cf2 = falknerskan(β); # I used more descriptive symbols that C1, C2, C3, C4"
   ]
  },
  {
   "cell_type": "code",
   "execution_count": 37,
   "id": "628acf6a-28bc-4ea8-b47f-e1c40f297540",
   "metadata": {},
   "outputs": [],
   "source": [
    "β = 0.5\n",
    "u3, η3, d993, dstar3, theta3, Cf3 = falknerskan(β); # I used more descriptive symbols that C1, C2, C3, C4"
   ]
  },
  {
   "cell_type": "code",
   "execution_count": 38,
   "id": "e8db3741-f041-4df0-9bdc-186c3c26ab53",
   "metadata": {},
   "outputs": [],
   "source": [
    "β = 1.0\n",
    "u4, η4, d994, dstar4, theta4, Cf4 = falknerskan(β); # I used more descriptive symbols that C1, C2, C3, C4"
   ]
  },
  {
   "cell_type": "code",
   "execution_count": 39,
   "id": "9a86261c-58b5-4a28-a74a-e7bce4f9f6e8",
   "metadata": {},
   "outputs": [
    {
     "data": {
      "text/plain": [
       "\"C:\\\\Users\\\\bill\\\\MAE150A\\\\hw\\\\hw4\\\\hw4_p2.png\""
      ]
     },
     "execution_count": 39,
     "metadata": {},
     "output_type": "execute_result"
    }
   ],
   "source": [
    "plot(u1,η1,xlim=(0,2),ylim=(0,maximum(η)),xlabel=L\"F'(\\eta) = u/U_e\",ylabel=L\"\\eta = y/\\delta(x)\", label=\"β = 0.0\", legend=true)\n",
    "plot!(u2,η2,xlim=(0,2),ylim=(0,maximum(η)),xlabel=L\"F'(\\eta) = u/U_e\",ylabel=L\"\\eta = y/\\delta(x)\", label=\"β = -0.1988\", legend=true)\n",
    "plot!(u3,η3,xlim=(0,2),ylim=(0,maximum(η)),xlabel=L\"F'(\\eta) = u/U_e\",ylabel=L\"\\eta = y/\\delta(x)\", label=\"β = 0.5\", legend=true)\n",
    "plot!(u4,η4,xlim=(0,2),ylim=(0,maximum(η)),xlabel=L\"F'(\\eta) = u/U_e\",ylabel=L\"\\eta = y/\\delta(x)\", label=\"β = 1.0\", legend=true)\n",
    "savefig(\"hw4_p2.png\")"
   ]
  },
  {
   "cell_type": "code",
   "execution_count": 41,
   "id": "7670f667-a64d-4703-bad9-07b9d5e95763",
   "metadata": {},
   "outputs": [
    {
     "data": {
      "text/plain": [
       "2.5910600231526826"
      ]
     },
     "execution_count": 41,
     "metadata": {},
     "output_type": "execute_result"
    }
   ],
   "source": [
    "h1=dstar1/theta1"
   ]
  },
  {
   "cell_type": "code",
   "execution_count": 42,
   "id": "273ddb1e-9ef6-4bd1-afb1-9185e49cdd36",
   "metadata": {},
   "outputs": [
    {
     "data": {
      "text/plain": [
       "4.079326067030641"
      ]
     },
     "execution_count": 42,
     "metadata": {},
     "output_type": "execute_result"
    }
   ],
   "source": [
    "h2=dstar2/theta2"
   ]
  },
  {
   "cell_type": "code",
   "execution_count": 43,
   "id": "3dc0407c-fbb0-4e36-8342-088dce063455",
   "metadata": {},
   "outputs": [
    {
     "data": {
      "text/plain": [
       "2.296912434967429"
      ]
     },
     "execution_count": 43,
     "metadata": {},
     "output_type": "execute_result"
    }
   ],
   "source": [
    "h3=dstar3/theta3"
   ]
  },
  {
   "cell_type": "code",
   "execution_count": 44,
   "id": "5c87c3bc-2491-499b-91f9-f2132b6546c9",
   "metadata": {},
   "outputs": [
    {
     "data": {
      "text/plain": [
       "2.2162126306582333"
      ]
     },
     "execution_count": 44,
     "metadata": {},
     "output_type": "execute_result"
    }
   ],
   "source": [
    "h4=dstar4/theta4"
   ]
  },
  {
   "cell_type": "code",
   "execution_count": null,
   "id": "612d84bb-34c2-4930-bb36-ea68061aaaa0",
   "metadata": {},
   "outputs": [],
   "source": []
  }
 ],
 "metadata": {
  "kernelspec": {
   "display_name": "Julia 1.9.3",
   "language": "julia",
   "name": "julia-1.9"
  },
  "language_info": {
   "file_extension": ".jl",
   "mimetype": "application/julia",
   "name": "julia",
   "version": "1.9.3"
  }
 },
 "nbformat": 4,
 "nbformat_minor": 5
}
