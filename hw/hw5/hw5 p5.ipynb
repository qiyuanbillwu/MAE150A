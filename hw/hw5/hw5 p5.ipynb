{
 "cells": [
  {
   "cell_type": "code",
   "execution_count": 1,
   "id": "41a49bf4-7c27-4a46-af70-ea079ff659ae",
   "metadata": {},
   "outputs": [],
   "source": [
    "using FluidDynTools\n",
    "using Gasdynamics1D"
   ]
  },
  {
   "cell_type": "code",
   "execution_count": 4,
   "id": "be88dd0f-01f9-4d68-88e0-a2767403b526",
   "metadata": {},
   "outputs": [
    {
     "data": {
      "text/plain": [
       "Length = 0.3 m"
      ]
     },
     "execution_count": 4,
     "metadata": {},
     "output_type": "execute_result"
    }
   ],
   "source": [
    "P = Length(30u\"cm\")"
   ]
  },
  {
   "cell_type": "code",
   "execution_count": 5,
   "id": "873617cc-8ce4-4e5c-b99f-e6ee055f2a8e",
   "metadata": {},
   "outputs": [
    {
     "data": {
      "text/plain": [
       "Area = 0.004330127018922193 m^2"
      ]
     },
     "execution_count": 5,
     "metadata": {},
     "output_type": "execute_result"
    }
   ],
   "source": [
    "A = Area(25*sqrt(3)u\"cm^2\")"
   ]
  },
  {
   "cell_type": "code",
   "execution_count": 8,
   "id": "fb42afe9-efa2-405f-9fda-c268795fc5d1",
   "metadata": {},
   "outputs": [
    {
     "data": {
      "text/plain": [
       "Length = 0.05773502691896258 m"
      ]
     },
     "execution_count": 8,
     "metadata": {},
     "output_type": "execute_result"
    }
   ],
   "source": [
    "D = Length(4*A/P)"
   ]
  },
  {
   "cell_type": "code",
   "execution_count": 9,
   "id": "f97a4c71-abb7-4b4f-a890-c2162e35c693",
   "metadata": {},
   "outputs": [
    {
     "data": {
      "text/plain": [
       "Pressure = 135000.0 Pa"
      ]
     },
     "execution_count": 9,
     "metadata": {},
     "output_type": "execute_result"
    }
   ],
   "source": [
    "p1 = Pressure(135u\"kPa\")"
   ]
  },
  {
   "cell_type": "code",
   "execution_count": 11,
   "id": "edcc0f65-220b-4c45-bf41-d1bff3be909c",
   "metadata": {},
   "outputs": [
    {
     "data": {
      "text/plain": [
       "Velocity = 600.0 m s^-1"
      ]
     },
     "execution_count": 11,
     "metadata": {},
     "output_type": "execute_result"
    }
   ],
   "source": [
    "u1 = Velocity(600)"
   ]
  },
  {
   "cell_type": "code",
   "execution_count": 12,
   "id": "65bd1da0-74c1-40e4-b349-8d6aca15d4b7",
   "metadata": {},
   "outputs": [
    {
     "data": {
      "text/plain": [
       "Temperature = 313.15 K"
      ]
     },
     "execution_count": 12,
     "metadata": {},
     "output_type": "execute_result"
    }
   ],
   "source": [
    "T1 = Temperature(40u\"°C\")"
   ]
  },
  {
   "cell_type": "code",
   "execution_count": 13,
   "id": "dac10098-619a-4494-b155-8437804f1944",
   "metadata": {},
   "outputs": [
    {
     "data": {
      "text/plain": [
       "Length = 0.6 m"
      ]
     },
     "execution_count": 13,
     "metadata": {},
     "output_type": "execute_result"
    }
   ],
   "source": [
    "L = Length(0.6)"
   ]
  },
  {
   "cell_type": "code",
   "execution_count": 14,
   "id": "5147174b-66aa-47c4-8716-03fd16043ade",
   "metadata": {},
   "outputs": [
    {
     "data": {
      "text/plain": [
       "Temperature = 373.15 K"
      ]
     },
     "execution_count": 14,
     "metadata": {},
     "output_type": "execute_result"
    }
   ],
   "source": [
    "Te = Temperature(100u\"°C\")"
   ]
  },
  {
   "cell_type": "code",
   "execution_count": 15,
   "id": "f9ba58f3-eaef-4294-80a6-f76b0f3d2f73",
   "metadata": {},
   "outputs": [
    {
     "data": {
      "text/plain": [
       "SoundSpeed = 354.7163232781936 m s^-1"
      ]
     },
     "execution_count": 15,
     "metadata": {},
     "output_type": "execute_result"
    }
   ],
   "source": [
    "c1 = SoundSpeed(T1)"
   ]
  },
  {
   "cell_type": "code",
   "execution_count": 16,
   "id": "015f0649-ec15-4c87-97dc-848bdfc99e9d",
   "metadata": {},
   "outputs": [
    {
     "data": {
      "text/plain": [
       "MachNumber = 1.6914924987239384"
      ]
     },
     "execution_count": 16,
     "metadata": {},
     "output_type": "execute_result"
    }
   ],
   "source": [
    "M1 = MachNumber(u1 / c1)"
   ]
  },
  {
   "cell_type": "code",
   "execution_count": 27,
   "id": "14fce511-bfc1-468a-b7d7-ed7b858ecb21",
   "metadata": {},
   "outputs": [
    {
     "data": {
      "text/plain": [
       "FLOverD = 0.20483543307630353"
      ]
     },
     "execution_count": 27,
     "metadata": {},
     "output_type": "execute_result"
    }
   ],
   "source": [
    "fListarD = FLStarOverD(M1,FannoFlow)"
   ]
  },
  {
   "cell_type": "code",
   "execution_count": 23,
   "id": "f116b758-7ed2-41ca-ac00-1786ccaeedd3",
   "metadata": {},
   "outputs": [
    {
     "data": {
      "text/plain": [
       "TemperatureRatio = 0.7632474111919973"
      ]
     },
     "execution_count": 23,
     "metadata": {},
     "output_type": "execute_result"
    }
   ],
   "source": [
    "T1_over_Tstar = TOverTStar(M1, FannoFlow)"
   ]
  },
  {
   "cell_type": "code",
   "execution_count": 25,
   "id": "c4918ecd-06d3-4e1d-811b-9de34ca8299b",
   "metadata": {},
   "outputs": [
    {
     "data": {
      "text/plain": [
       "TemperatureRatio = 0.9094867363445436"
      ]
     },
     "execution_count": 25,
     "metadata": {},
     "output_type": "execute_result"
    }
   ],
   "source": [
    "Te_over_Tstar = TemperatureRatio(T1_over_Tstar * Te / T1)"
   ]
  },
  {
   "cell_type": "code",
   "execution_count": 26,
   "id": "48dba560-47f8-48aa-a085-c6962e741461",
   "metadata": {},
   "outputs": [
    {
     "data": {
      "text/plain": [
       "MachNumber = 1.263775116400959"
      ]
     },
     "execution_count": 26,
     "metadata": {},
     "output_type": "execute_result"
    }
   ],
   "source": [
    "Me = MachNumber(Te_over_Tstar, FannoFlow)"
   ]
  },
  {
   "cell_type": "code",
   "execution_count": 28,
   "id": "42f8c0dd-5658-40c5-8354-657862f9d0b2",
   "metadata": {},
   "outputs": [
    {
     "data": {
      "text/plain": [
       "FLOverD = 0.05294450778189702"
      ]
     },
     "execution_count": 28,
     "metadata": {},
     "output_type": "execute_result"
    }
   ],
   "source": [
    "fLestarD = FLStarOverD(Me,FannoFlow)"
   ]
  },
  {
   "cell_type": "code",
   "execution_count": 29,
   "id": "a8c7788d-c937-4fbc-b843-19a885a7b3e0",
   "metadata": {},
   "outputs": [
    {
     "data": {
      "text/plain": [
       "0.1518909252944065"
      ]
     },
     "execution_count": 29,
     "metadata": {},
     "output_type": "execute_result"
    }
   ],
   "source": [
    "fLOverD = fListarD - fLestarD"
   ]
  },
  {
   "cell_type": "code",
   "execution_count": 30,
   "id": "83151042-c1f9-4d4a-8dbb-3b5a2d3730ff",
   "metadata": {},
   "outputs": [
    {
     "data": {
      "text/plain": [
       "0.014615711101031157"
      ]
     },
     "execution_count": 30,
     "metadata": {},
     "output_type": "execute_result"
    }
   ],
   "source": [
    "f = fLOverD * D / L"
   ]
  },
  {
   "cell_type": "code",
   "execution_count": null,
   "id": "afd58b1f-f936-4166-9826-7c18aff57801",
   "metadata": {},
   "outputs": [],
   "source": []
  }
 ],
 "metadata": {
  "kernelspec": {
   "display_name": "Julia 1.9.3",
   "language": "julia",
   "name": "julia-1.9"
  },
  "language_info": {
   "file_extension": ".jl",
   "mimetype": "application/julia",
   "name": "julia",
   "version": "1.9.3"
  }
 },
 "nbformat": 4,
 "nbformat_minor": 5
}
