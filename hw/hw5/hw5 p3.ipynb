{
 "cells": [
  {
   "cell_type": "code",
   "execution_count": 1,
   "id": "1a60a06c-5682-4484-872c-b23f0e09278a",
   "metadata": {},
   "outputs": [],
   "source": [
    "using FluidDynTools\n",
    "using Gasdynamics1D\n",
    "using Plots"
   ]
  },
  {
   "cell_type": "code",
   "execution_count": 2,
   "id": "f9751e83-5db8-42a2-812c-1aad23450f20",
   "metadata": {},
   "outputs": [
    {
     "data": {
      "text/plain": [
       "MachNumber = 2.6367"
      ]
     },
     "execution_count": 2,
     "metadata": {},
     "output_type": "execute_result"
    }
   ],
   "source": [
    "M1 = MachNumber(2.6367)"
   ]
  },
  {
   "cell_type": "code",
   "execution_count": 3,
   "id": "12cdbd3d-2527-4571-9f0f-4f8135631f7b",
   "metadata": {},
   "outputs": [
    {
     "data": {
      "text/plain": [
       "MachNumber = 0.5007517604747908"
      ]
     },
     "execution_count": 3,
     "metadata": {},
     "output_type": "execute_result"
    }
   ],
   "source": [
    "M2 = MachNumber(M1,NormalShock)"
   ]
  },
  {
   "cell_type": "code",
   "execution_count": 4,
   "id": "d9ce8508-0ef2-43fe-adb8-5046a9f9dc63",
   "metadata": {},
   "outputs": [
    {
     "data": {
      "text/plain": [
       "AreaRatio = 1.3384075081189186"
      ]
     },
     "execution_count": 4,
     "metadata": {},
     "output_type": "execute_result"
    }
   ],
   "source": [
    "A1_over_Astar = AOverAStar(M2,Isentropic,gas=Air)"
   ]
  },
  {
   "cell_type": "code",
   "execution_count": 5,
   "id": "761e9d45-a46b-4c47-aef3-df3b5d7e609a",
   "metadata": {},
   "outputs": [
    {
     "data": {
      "text/plain": [
       "4.015222524356756"
      ]
     },
     "execution_count": 5,
     "metadata": {},
     "output_type": "execute_result"
    }
   ],
   "source": [
    "Ae_over_Astar = A1_over_Astar * 7.5/ 2.5"
   ]
  },
  {
   "cell_type": "code",
   "execution_count": 9,
   "id": "43852add-0b6d-410f-8d3c-63e80b8a6a40",
   "metadata": {},
   "outputs": [
    {
     "data": {
      "text/plain": [
       "MachNumber = 0.1459780735833997"
      ]
     },
     "execution_count": 9,
     "metadata": {},
     "output_type": "execute_result"
    }
   ],
   "source": [
    "Me = SubsonicMachNumber(AreaRatio(Ae_over_Astar),Isentropic,gas=Air)"
   ]
  },
  {
   "cell_type": "code",
   "execution_count": null,
   "id": "bb0394fa-6520-4522-adde-700d6d2c5ad4",
   "metadata": {},
   "outputs": [],
   "source": []
  }
 ],
 "metadata": {
  "kernelspec": {
   "display_name": "Julia 1.9.3",
   "language": "julia",
   "name": "julia-1.9"
  },
  "language_info": {
   "file_extension": ".jl",
   "mimetype": "application/julia",
   "name": "julia",
   "version": "1.9.3"
  }
 },
 "nbformat": 4,
 "nbformat_minor": 5
}
