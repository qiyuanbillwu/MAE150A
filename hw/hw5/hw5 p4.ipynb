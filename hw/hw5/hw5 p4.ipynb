{
 "cells": [
  {
   "cell_type": "code",
   "execution_count": 1,
   "id": "ed8841b0-1b50-4978-bf02-6200859f62d0",
   "metadata": {},
   "outputs": [],
   "source": [
    "using FluidDynTools\n",
    "using Gasdynamics1D"
   ]
  },
  {
   "cell_type": "code",
   "execution_count": 3,
   "id": "1f426e88-e3ff-403b-80f0-f02b72440307",
   "metadata": {},
   "outputs": [
    {
     "data": {
      "text/plain": [
       "Diameter = 0.05 m"
      ]
     },
     "execution_count": 3,
     "metadata": {},
     "output_type": "execute_result"
    }
   ],
   "source": [
    "f = FrictionFactor(0.025)\n",
    "D = Diameter(5u\"cm\")"
   ]
  },
  {
   "cell_type": "code",
   "execution_count": 5,
   "id": "87840c70-1b6b-4858-a5af-71745f8b90d8",
   "metadata": {},
   "outputs": [
    {
     "data": {
      "text/plain": [
       "Pressure = 600000.0 Pa"
      ]
     },
     "execution_count": 5,
     "metadata": {},
     "output_type": "execute_result"
    }
   ],
   "source": [
    "pi = Pressure(600u\"kPa\")"
   ]
  },
  {
   "cell_type": "code",
   "execution_count": 6,
   "id": "487d9665-0c20-450e-b5cf-4d941458083d",
   "metadata": {},
   "outputs": [
    {
     "data": {
      "text/plain": [
       "Velocity = 295.0 m s^-1"
      ]
     },
     "execution_count": 6,
     "metadata": {},
     "output_type": "execute_result"
    }
   ],
   "source": [
    "ui = Velocity(295)"
   ]
  },
  {
   "cell_type": "code",
   "execution_count": 9,
   "id": "ce354c0a-3487-405d-b7b4-2400c62d2cc1",
   "metadata": {},
   "outputs": [
    {
     "data": {
      "text/plain": [
       "Temperature = 263.15 K"
      ]
     },
     "execution_count": 9,
     "metadata": {},
     "output_type": "execute_result"
    }
   ],
   "source": [
    "Ti = Temperature(-10u\"°C\")"
   ]
  },
  {
   "cell_type": "code",
   "execution_count": 19,
   "id": "a7c9e7bf-dc9a-4012-a792-0821d1c9974e",
   "metadata": {},
   "outputs": [
    {
     "data": {
      "text/plain": [
       "SoundSpeed = 1234.8428116629698 m s^-1"
      ]
     },
     "execution_count": 19,
     "metadata": {},
     "output_type": "execute_result"
    }
   ],
   "source": [
    "ci = SoundSpeed(Ti, gas = H2)"
   ]
  },
  {
   "cell_type": "code",
   "execution_count": 20,
   "id": "f134562b-adbf-4ca7-ace9-ea55065cf42e",
   "metadata": {},
   "outputs": [
    {
     "data": {
      "text/plain": [
       "MachNumber = 0.23889680306979463"
      ]
     },
     "execution_count": 20,
     "metadata": {},
     "output_type": "execute_result"
    }
   ],
   "source": [
    "Mi = MachNumber(ui / ci)"
   ]
  },
  {
   "cell_type": "code",
   "execution_count": 25,
   "id": "e253cea8-e7d2-47e7-bb6b-3999cccf3698",
   "metadata": {},
   "outputs": [
    {
     "data": {
      "text/plain": [
       "FLOverD = 9.456552166630088"
      ]
     },
     "execution_count": 25,
     "metadata": {},
     "output_type": "execute_result"
    }
   ],
   "source": [
    "fListarD = FLStarOverD(Mi,FannoFlow, gas = H2)"
   ]
  },
  {
   "cell_type": "code",
   "execution_count": 26,
   "id": "191e4a66-c81a-4a30-a448-2298de829f73",
   "metadata": {},
   "outputs": [
    {
     "data": {
      "text/plain": [
       "Length = 18.913104333260176 m"
      ]
     },
     "execution_count": 26,
     "metadata": {},
     "output_type": "execute_result"
    }
   ],
   "source": [
    "Listar = Length(fListarD*D/f)"
   ]
  },
  {
   "cell_type": "code",
   "execution_count": null,
   "id": "e743f7f4-aac5-4b1f-8199-144bb3e4952d",
   "metadata": {},
   "outputs": [],
   "source": []
  }
 ],
 "metadata": {
  "kernelspec": {
   "display_name": "Julia 1.9.3",
   "language": "julia",
   "name": "julia-1.9"
  },
  "language_info": {
   "file_extension": ".jl",
   "mimetype": "application/julia",
   "name": "julia",
   "version": "1.9.3"
  }
 },
 "nbformat": 4,
 "nbformat_minor": 5
}
