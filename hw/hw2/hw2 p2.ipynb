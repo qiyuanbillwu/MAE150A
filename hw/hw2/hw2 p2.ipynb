{
 "cells": [
  {
   "cell_type": "code",
   "execution_count": 1,
   "id": "164a3e46-4be8-49f3-bf4a-45c570dba251",
   "metadata": {},
   "outputs": [],
   "source": [
    "using FluidDynTools\n",
    "using PotentialFlow\n",
    "using ViscousFlow\n",
    "using Plots"
   ]
  },
  {
   "cell_type": "code",
   "execution_count": 2,
   "id": "067145a2-503e-4b60-bfb7-30f6536b97ae",
   "metadata": {},
   "outputs": [
    {
     "data": {
      "text/plain": [
       "PhysicalGrid{2}((210, 202), (105, 101), 0.02, ((-2.08, 2.08), (-2.0, 2.0)), 16)"
      ]
     },
     "execution_count": 2,
     "metadata": {},
     "output_type": "execute_result"
    }
   ],
   "source": [
    "# grid cell size\n",
    "Δx = 0.02\n",
    "\n",
    "# set the size of a region in which to set up the flow.\n",
    "xlim = (-2,2)\n",
    "ylim = (-2,2)\n",
    "\n",
    "# make the grid\n",
    "g = PhysicalGrid(xlim,ylim,Δx)"
   ]
  },
  {
   "cell_type": "code",
   "execution_count": 3,
   "id": "657f9fe1-3072-4b12-b22f-3edd853fdc79",
   "metadata": {},
   "outputs": [],
   "source": [
    "cache = GridCache(g);"
   ]
  },
  {
   "cell_type": "code",
   "execution_count": 4,
   "id": "8873c447-b567-4059-9b4f-f5421b998a5c",
   "metadata": {},
   "outputs": [],
   "source": [
    "ψ = zeros_gridcurl(cache)\n",
    "vel = zeros_gridgrad(cache);"
   ]
  },
  {
   "cell_type": "code",
   "execution_count": 5,
   "id": "d8d87e12-5313-4174-b4dd-29c216f6ba11",
   "metadata": {},
   "outputs": [
    {
     "data": {
      "text/plain": [
       "\"C:\\\\Users\\\\bill\\\\MAE150A\\\\hw\\\\hw2_p2.png\""
      ]
     },
     "execution_count": 5,
     "metadata": {},
     "output_type": "execute_result"
    }
   ],
   "source": [
    "ν = 0.5\n",
    "σ = 1.0\n",
    "α = -π/4\n",
    "c = Corner(σ,ν,α)\n",
    "\n",
    "ViscousFlow.streamfunction!(ψ,c,cache)\n",
    "p = plot(ψ,cache,xlim=(-2,2),ylim=(-2,2),levels=range(-3,3,length=31),color=:black,xlabel=L\"x\",ylabel=L\"y\",title=\"Streamlines of a corner\")\n",
    "\n",
    "x = [-1, -0.5, 0.5, 1,0,0,0,0]\n",
    "y = [0,0,0,0,-1,-0.5,0.5,1]\n",
    "u = [0.25,0.25,-0.25,-0.25,0,0,0,0]\n",
    "v = [0, 0, 0, 0,-0.25,-0.25,0.25,0.25]\n",
    "quiver!(x,y,quiver=(u,v))\n",
    "savefig(\"hw2_p2.png\")"
   ]
  },
  {
   "cell_type": "code",
   "execution_count": null,
   "id": "f95d5fa0-e098-4102-8579-77f7540fbddd",
   "metadata": {},
   "outputs": [],
   "source": []
  },
  {
   "cell_type": "code",
   "execution_count": null,
   "id": "2265394a-6ef6-4a14-bcdf-bd1a14d730a8",
   "metadata": {},
   "outputs": [],
   "source": []
  },
  {
   "cell_type": "code",
   "execution_count": null,
   "id": "468c7272-4a05-4454-a124-973262778f2b",
   "metadata": {},
   "outputs": [],
   "source": []
  }
 ],
 "metadata": {
  "kernelspec": {
   "display_name": "Julia 1.9.3",
   "language": "julia",
   "name": "julia-1.9"
  },
  "language_info": {
   "file_extension": ".jl",
   "mimetype": "application/julia",
   "name": "julia",
   "version": "1.9.3"
  }
 },
 "nbformat": 4,
 "nbformat_minor": 5
}
