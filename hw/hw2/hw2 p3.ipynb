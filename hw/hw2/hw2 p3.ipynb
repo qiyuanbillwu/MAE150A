{
 "cells": [
  {
   "cell_type": "code",
   "execution_count": 10,
   "id": "9e042421-acd1-49b0-bd7f-23b34b012a79",
   "metadata": {},
   "outputs": [],
   "source": [
    "using FluidDynTools\n",
    "using PotentialFlow\n",
    "using ViscousFlow\n",
    "using Plots"
   ]
  },
  {
   "cell_type": "code",
   "execution_count": 11,
   "id": "6fa484fd-a2f9-4971-9cb4-24ad0f815708",
   "metadata": {},
   "outputs": [
    {
     "data": {
      "text/plain": [
       "PhysicalGrid{2}((210, 202), (105, 101), 0.02, ((-2.08, 2.08), (-2.0, 2.0)), 16)"
      ]
     },
     "execution_count": 11,
     "metadata": {},
     "output_type": "execute_result"
    }
   ],
   "source": [
    "# grid cell size\n",
    "Δx = 0.02\n",
    "\n",
    "# set the size of a region in which to set up the flow.\n",
    "xlim = (-2,2)\n",
    "ylim = (-2,2)\n",
    "\n",
    "# make the grid\n",
    "g = PhysicalGrid(xlim,ylim,Δx)"
   ]
  },
  {
   "cell_type": "code",
   "execution_count": 12,
   "id": "3cf186dc-5309-4f70-af8a-7d9a42b62fb2",
   "metadata": {},
   "outputs": [],
   "source": [
    "cache = GridCache(g);"
   ]
  },
  {
   "cell_type": "code",
   "execution_count": 13,
   "id": "c8ba2d6b-7992-46c3-9c5f-7a5247c944fc",
   "metadata": {},
   "outputs": [],
   "source": [
    "ψ = zeros_gridcurl(cache)\n",
    "vel = zeros_gridgrad(cache);"
   ]
  },
  {
   "cell_type": "code",
   "execution_count": 14,
   "id": "9f0b9620-2cc0-4a09-ad0f-4110eca2f720",
   "metadata": {},
   "outputs": [
    {
     "data": {
      "text/plain": [
       "\"C:\\\\Users\\\\bill\\\\MAE150A\\\\hw\\\\hw2_p3.png\""
      ]
     },
     "execution_count": 14,
     "metadata": {},
     "output_type": "execute_result"
    }
   ],
   "source": [
    "ν = 2.0\n",
    "σ = 1.0\n",
    "α = π/2\n",
    "c = Corner(σ,ν,α)\n",
    "\n",
    "ViscousFlow.streamfunction!(ψ,c,cache)\n",
    "p = plot(ψ,cache,xlim=(-2,2),ylim=(-2,2),levels=range(-3,3,length=31),color=:black,xlabel=L\"x\",ylabel=L\"y\",title=\"Streamlines of a corner\")\n",
    "\n",
    "x = [-0.2,-0.2, -0.2,-.2]\n",
    "y = [0.49, 1, 1.44,1.96]\n",
    "u = [.25, .25, .25,0.25]\n",
    "v = [0, 0, 0,0]\n",
    "quiver!(x,y,quiver=(u,v))\n",
    "\n",
    "savefig(\"hw2_p3.png\")"
   ]
  },
  {
   "cell_type": "code",
   "execution_count": 15,
   "id": "f4d49350-d9f9-48c9-96a4-d952ce62cd4b",
   "metadata": {},
   "outputs": [
    {
     "data": {
      "text/plain": [
       "0.09757616038884362 - 0.9854235478283898im"
      ]
     },
     "execution_count": 15,
     "metadata": {},
     "output_type": "execute_result"
    }
   ],
   "source": [
    "z_eval = 0.2-1.0*im\n",
    "induce_velocity(z_eval,c,0.0)"
   ]
  },
  {
   "cell_type": "code",
   "execution_count": null,
   "id": "0f37d767-466b-447c-bf9e-e8167fb9fcbf",
   "metadata": {},
   "outputs": [],
   "source": []
  }
 ],
 "metadata": {
  "kernelspec": {
   "display_name": "Julia 1.9.3",
   "language": "julia",
   "name": "julia-1.9"
  },
  "language_info": {
   "file_extension": ".jl",
   "mimetype": "application/julia",
   "name": "julia",
   "version": "1.9.3"
  }
 },
 "nbformat": 4,
 "nbformat_minor": 5
}
