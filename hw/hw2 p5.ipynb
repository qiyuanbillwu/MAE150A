{
 "cells": [
  {
   "cell_type": "code",
   "execution_count": 351,
   "id": "32c60a5b-428c-4bf4-81d8-a9fbce34b07c",
   "metadata": {},
   "outputs": [],
   "source": [
    "using FluidDynTools\n",
    "using PotentialFlow\n",
    "using ViscousFlow\n",
    "using Plots"
   ]
  },
  {
   "cell_type": "code",
   "execution_count": null,
   "id": "f5b730aa-e547-4436-b217-ad1e2333f05a",
   "metadata": {},
   "outputs": [],
   "source": [
    "# grid cell size\n",
    "Δx = 0.02\n",
    "\n",
    "# set the size of a region in which to set up the flow.\n",
    "xlim = (-3,3)\n",
    "ylim = (-3,3)\n",
    "\n",
    "# make the grid\n",
    "g = PhysicalGrid(xlim,ylim,Δx)"
   ]
  },
  {
   "cell_type": "code",
   "execution_count": null,
   "id": "8fb8d6b3-fca8-4c45-8a59-4ecea268c3ac",
   "metadata": {},
   "outputs": [],
   "source": [
    "cache = GridCache(g)\n",
    "ψ = zeros_gridcurl(cache)\n",
    "vel = zeros_gridgrad(cache);"
   ]
  },
  {
   "cell_type": "code",
   "execution_count": null,
   "id": "b955e75c-5168-48b7-9f40-7db1d8a7e75e",
   "metadata": {},
   "outputs": [],
   "source": [
    "zvort = ComplexF64[]\n",
    "Γvort = Float64[]"
   ]
  },
  {
   "cell_type": "code",
   "execution_count": null,
   "id": "0752e23d-b7a4-4656-ab23-ae4bff03d751",
   "metadata": {},
   "outputs": [],
   "source": [
    "τ=4.5"
   ]
  },
  {
   "cell_type": "code",
   "execution_count": null,
   "id": "3c9fb3ac-d49d-4c57-a211-d24c839f115f",
   "metadata": {},
   "outputs": [],
   "source": [
    "push!(zvort,0.0+1.0im)\n",
    "push!(Γvort,-τ)"
   ]
  },
  {
   "cell_type": "code",
   "execution_count": null,
   "id": "b04afb46-4311-4271-832a-625eda102f08",
   "metadata": {},
   "outputs": [],
   "source": [
    "push!(zvort,0.0-1.0im)\n",
    "push!(Γvort,τ)"
   ]
  },
  {
   "cell_type": "code",
   "execution_count": null,
   "id": "8a1f877a-6d60-4c45-a886-6d289b259709",
   "metadata": {},
   "outputs": [],
   "source": [
    "v = Vortex.Point.(zvort,Γvort)"
   ]
  },
  {
   "cell_type": "code",
   "execution_count": null,
   "id": "a49ba3c3-78e6-4bff-bbf9-73803d4ffae4",
   "metadata": {},
   "outputs": [],
   "source": [
    "U∞ = 1.0  ## speed\n",
    "α = 0.0 ## angle in radians\n",
    "fs = Freestreams.Freestream(U∞*exp(im*α))"
   ]
  },
  {
   "cell_type": "code",
   "execution_count": null,
   "id": "99e0823a-f041-4732-9360-1dbd0b3c7a10",
   "metadata": {},
   "outputs": [],
   "source": [
    "ψ .= ViscousFlow.streamfunction(fs,cache) + ViscousFlow.streamfunction(v,cache,angle=0)\n",
    "p = plot(ψ,cache,color=:black,xlim=(-3,3),ylim=(-3,3),xlabel=L\"x\",ylabel=L\"y\",title=\"Kelvin Oval\",levels=range(-3,3,length=51))\n",
    "plot!(p,v) ## This adds markers for the vortices\n",
    "scatter!(p,[-0.769, 0.769],[0,0],label=\"stagnation point\",markersize=3)"
   ]
  },
  {
   "cell_type": "code",
   "execution_count": null,
   "id": "29a9b246-30ff-4cef-94cf-86015a2e5905",
   "metadata": {},
   "outputs": [],
   "source": [
    "system = (v,fs)\n",
    "z_eval = 0.0+0.9*im\n",
    "induce_velocity(z_eval,system,0.0)"
   ]
  },
  {
   "cell_type": "code",
   "execution_count": null,
   "id": "3a24f44f-9107-457d-b721-53ac575f2bd8",
   "metadata": {},
   "outputs": [],
   "source": []
  }
 ],
 "metadata": {
  "kernelspec": {
   "display_name": "Julia 1.9.3",
   "language": "julia",
   "name": "julia-1.9"
  },
  "language_info": {
   "file_extension": ".jl",
   "mimetype": "application/julia",
   "name": "julia",
   "version": "1.9.3"
  }
 },
 "nbformat": 4,
 "nbformat_minor": 5
}
