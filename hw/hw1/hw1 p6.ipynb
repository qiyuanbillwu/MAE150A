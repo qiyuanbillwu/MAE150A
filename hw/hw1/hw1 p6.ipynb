{
 "cells": [
  {
   "cell_type": "code",
   "execution_count": 1,
   "id": "40a8213c-7b47-4aec-b62f-44e22119a9aa",
   "metadata": {},
   "outputs": [],
   "source": [
    "using FluidDynTools\n",
    "using ViscousFlow\n",
    "using Plots"
   ]
  },
  {
   "cell_type": "code",
   "execution_count": 2,
   "id": "34908d29-ddeb-4e6f-8540-e0fefc30bab0",
   "metadata": {},
   "outputs": [],
   "source": [
    "Δx = 0.02\n",
    "xlim = (-2,2)\n",
    "ylim = (-2,2)\n",
    "g = PhysicalGrid(xlim,ylim,Δx)\n",
    "cache = SurfaceVectorCache(g);"
   ]
  },
  {
   "cell_type": "code",
   "execution_count": 3,
   "id": "94ab4d71-92c3-4bfa-bd1f-787875b243db",
   "metadata": {},
   "outputs": [],
   "source": [
    "σ = 0.3\n",
    "gauss4 = SpatialGaussian(σ,σ,-1,0,1) + SpatialGaussian(σ,σ,1,0,1) + SpatialGaussian(σ,σ,0,1,-1) + SpatialGaussian(σ,σ,0,-1,-1);"
   ]
  },
  {
   "cell_type": "code",
   "execution_count": 4,
   "id": "0ed7f7d0-2538-414f-a409-f4976ea0abcb",
   "metadata": {},
   "outputs": [],
   "source": [
    "ω = zeros_gridcurl(cache);\n",
    "evaluate_field!(ω,gauss4,cache);"
   ]
  },
  {
   "cell_type": "code",
   "execution_count": 5,
   "id": "293ddb21-133a-46c1-8a94-0d9a1770f6d0",
   "metadata": {},
   "outputs": [
    {
     "data": {
      "text/plain": [
       "\"C:\\\\Users\\\\bill\\\\MAE150A\\\\hw\\\\my_plot.png\""
      ]
     },
     "execution_count": 5,
     "metadata": {},
     "output_type": "execute_result"
    }
   ],
   "source": [
    "plot(ω,cache,xlim=(-2,2),ylim=(-2,2),xlabel=L\"x\",ylabel=L\"y\",title=\"Vorticity field\")\n",
    "savefig(\"my_plot.png\")"
   ]
  },
  {
   "cell_type": "code",
   "execution_count": 6,
   "id": "bd4e0c0c-8bdd-4aec-b92e-5de7f088ce87",
   "metadata": {},
   "outputs": [
    {
     "data": {
      "text/plain": [
       "\"C:\\\\Users\\\\bill\\\\MAE150A\\\\hw\\\\my_plot1.png\""
      ]
     },
     "execution_count": 6,
     "metadata": {},
     "output_type": "execute_result"
    }
   ],
   "source": [
    "ψ = -ω\n",
    "inverse_laplacian!(ψ,cache)\n",
    "ps = plot(ψ,cache,color=:black,xlim=(-2,2),ylim=(-2,2),xlabel=L\"x\",ylabel=L\"y\",title=\"Streamfunction\")\n",
    "savefig(\"my_plot1.png\")"
   ]
  },
  {
   "cell_type": "code",
   "execution_count": 7,
   "id": "e9a31a5f-bbb7-4b42-9c5f-ef168c140a07",
   "metadata": {},
   "outputs": [],
   "source": [
    "vel = zeros_grid(cache)\n",
    "curl!(vel,ψ,cache);"
   ]
  },
  {
   "cell_type": "code",
   "execution_count": 8,
   "id": "1ceda0f9-ca7f-4c91-874c-1b41c18b67f2",
   "metadata": {},
   "outputs": [
    {
     "data": {
      "text/plain": [
       "\"C:\\\\Users\\\\bill\\\\MAE150A\\\\hw\\\\my_plot2.png\""
      ]
     },
     "execution_count": 8,
     "metadata": {},
     "output_type": "execute_result"
    }
   ],
   "source": [
    "curl!(vel,ψ,cache)\n",
    "plot(\n",
    "    plot(vel.u,cache,xlim=(-2,2),ylim=(-2,2),xlabel=L\"x\",ylabel=L\"y\",title=\"u component\",colorbar=:true),\n",
    "    plot(vel.v,cache,xlim=(-2,2),ylim=(-2,2),xlabel=L\"x\",ylabel=L\"y\",title=\"v component\",colorbar=:true),\n",
    "    size=(900,450))\n",
    "savefig(\"my_plot2.png\")"
   ]
  },
  {
   "cell_type": "code",
   "execution_count": 9,
   "id": "785dd434-32ac-4894-b71e-63b3af14788a",
   "metadata": {},
   "outputs": [],
   "source": [
    "using NLsolve"
   ]
  },
  {
   "cell_type": "code",
   "execution_count": 10,
   "id": "ba257ea5-e471-4787-b338-bb0c0653615d",
   "metadata": {},
   "outputs": [],
   "source": [
    "umagsq = magsq(vel);"
   ]
  },
  {
   "cell_type": "code",
   "execution_count": 11,
   "id": "1e88935d-0353-4ebe-82b3-79c8fb55b05f",
   "metadata": {},
   "outputs": [],
   "source": [
    "umagsq_fcn = interpolatable_field(umagsq,g);"
   ]
  },
  {
   "cell_type": "code",
   "execution_count": 12,
   "id": "5b2b280b-2e04-4049-9c19-8a7b80a39e11",
   "metadata": {},
   "outputs": [
    {
     "data": {
      "text/plain": [
       "f! (generic function with 1 method)"
      ]
     },
     "execution_count": 12,
     "metadata": {},
     "output_type": "execute_result"
    }
   ],
   "source": [
    "function f!(F,x)\n",
    "    F[1] = umagsq_fcn(x[1],x[2])\n",
    "end"
   ]
  },
  {
   "cell_type": "code",
   "execution_count": 13,
   "id": "be7379dc-bbad-4714-ac1f-b0199907b1f7",
   "metadata": {},
   "outputs": [
    {
     "data": {
      "text/plain": [
       "Results of Nonlinear Solver Algorithm\n",
       " * Algorithm: Trust-region with dogleg and autoscaling\n",
       " * Starting Point: [1.0, 0.0]\n",
       " * Zero: [1.0464469883316303, 1.9294931900212727e-11]\n",
       " * Inf-norm of residuals: 0.000000\n",
       " * Iterations: 1000\n",
       " * Convergence: false\n",
       "   * |x - x'| < 0.0e+00: false\n",
       "   * |f(x)| < 1.0e-08: false\n",
       " * Function Calls (f): 87\n",
       " * Jacobian Calls (df/dx): 11"
      ]
     },
     "execution_count": 13,
     "metadata": {},
     "output_type": "execute_result"
    }
   ],
   "source": [
    "xguess = [1.0,0]\n",
    "sol = nlsolve(f!, xguess)"
   ]
  },
  {
   "cell_type": "code",
   "execution_count": 14,
   "id": "f487ba1f-4d50-4b5a-85fc-f7f75114465b",
   "metadata": {},
   "outputs": [
    {
     "data": {
      "text/plain": [
       "2-element Vector{Float64}:\n",
       " 1.0464469883316303\n",
       " 1.9294931900212727e-11"
      ]
     },
     "execution_count": 14,
     "metadata": {},
     "output_type": "execute_result"
    }
   ],
   "source": [
    "sol.zero"
   ]
  },
  {
   "cell_type": "code",
   "execution_count": 15,
   "id": "d9c52612-6ae3-445a-8f92-a92e51d8d351",
   "metadata": {},
   "outputs": [
    {
     "data": {
      "text/plain": [
       "\"C:\\\\Users\\\\bill\\\\MAE150A\\\\hw\\\\my_plot3.png\""
      ]
     },
     "execution_count": 15,
     "metadata": {},
     "output_type": "execute_result"
    }
   ],
   "source": [
    "plot(ψ,cache,color=:lightgray)\n",
    "plot!(vel.u,cache,levels=[0],color=:red,xlim=(-2,2),ylim=(-2,2)) # x component in red\n",
    "plot!(vel.v,cache,levels=[0],color=:blue) # y component in red\n",
    "scatter!([sol.zero[1]],[0],markersize=5)\n",
    "scatter!(-[sol.zero[1]],[0],markersize=5)\n",
    "scatter!([0],[sol.zero[1]],markersize=5)\n",
    "scatter!([0],-[sol.zero[1]],markersize=5)\n",
    "scatter!([0],[0],markersize=5)\n",
    "savefig(\"my_plot3.png\")"
   ]
  },
  {
   "cell_type": "code",
   "execution_count": 16,
   "id": "581f5c31-313e-4e54-b67a-287b066f56ef",
   "metadata": {},
   "outputs": [],
   "source": [
    "Δx = 0.02\n",
    "xlim = (-2,2)\n",
    "ylim = (-2,2)\n",
    "h = PhysicalGrid(xlim,ylim,Δx)\n",
    "cache = SurfaceVectorCache(h);"
   ]
  },
  {
   "cell_type": "code",
   "execution_count": 17,
   "id": "af054677-e5af-4733-ad1d-c2fa39d268d7",
   "metadata": {},
   "outputs": [],
   "source": [
    "σ = 0.3\n",
    "gauss3 = SpatialGaussian(σ,σ,-1,0,1) + SpatialGaussian(σ,σ,1,0,1) + SpatialGaussian(σ,σ,0,1,-1);"
   ]
  },
  {
   "cell_type": "code",
   "execution_count": 18,
   "id": "276b9adb-bd9f-422f-a266-fe9ba474bfcb",
   "metadata": {},
   "outputs": [],
   "source": [
    "ω = zeros_gridcurl(cache);\n",
    "evaluate_field!(ω,gauss3,cache);"
   ]
  },
  {
   "cell_type": "code",
   "execution_count": 19,
   "id": "bea1f232-461e-4a62-9730-bca449a5b531",
   "metadata": {},
   "outputs": [
    {
     "data": {
      "text/plain": [
       "\"C:\\\\Users\\\\bill\\\\MAE150A\\\\hw\\\\my_plot4.png\""
      ]
     },
     "execution_count": 19,
     "metadata": {},
     "output_type": "execute_result"
    }
   ],
   "source": [
    "plot(ω,cache,xlim=(-2,2),ylim=(-2,2),xlabel=L\"x\",ylabel=L\"y\",title=\"Vorticity field\")\n",
    "savefig(\"my_plot4.png\")"
   ]
  },
  {
   "cell_type": "code",
   "execution_count": 20,
   "id": "99907027-8236-490b-bd0c-cd3b844c122c",
   "metadata": {},
   "outputs": [
    {
     "data": {
      "text/plain": [
       "\"C:\\\\Users\\\\bill\\\\MAE150A\\\\hw\\\\my_plot5.png\""
      ]
     },
     "execution_count": 20,
     "metadata": {},
     "output_type": "execute_result"
    }
   ],
   "source": [
    "ψ = -ω\n",
    "inverse_laplacian!(ψ,cache)\n",
    "ps = plot(ψ,cache,color=:black,xlim=(-2,2),ylim=(-2,2),xlabel=L\"x\",ylabel=L\"y\",title=\"Streamfunction\")\n",
    "savefig(\"my_plot5.png\")"
   ]
  },
  {
   "cell_type": "code",
   "execution_count": 21,
   "id": "96be1fdd-710f-48d4-96bf-7d355d16d665",
   "metadata": {},
   "outputs": [],
   "source": [
    "vel = zeros_grid(cache)\n",
    "curl!(vel,ψ,cache);"
   ]
  },
  {
   "cell_type": "code",
   "execution_count": 22,
   "id": "0eb6fb3e-46d2-4222-afb7-63bb8dfeb29f",
   "metadata": {},
   "outputs": [
    {
     "data": {
      "text/plain": [
       "\"C:\\\\Users\\\\bill\\\\MAE150A\\\\hw\\\\my_plot6.png\""
      ]
     },
     "execution_count": 22,
     "metadata": {},
     "output_type": "execute_result"
    }
   ],
   "source": [
    "curl!(vel,ψ,cache)\n",
    "plot(\n",
    "    plot(vel.u,cache,xlim=(-2,2),ylim=(-2,2),xlabel=L\"x\",ylabel=L\"y\",title=\"u component\",colorbar=:true),\n",
    "    plot(vel.v,cache,xlim=(-2,2),ylim=(-2,2),xlabel=L\"x\",ylabel=L\"y\",title=\"v component\",colorbar=:true),\n",
    "    size=(900,450))\n",
    "savefig(\"my_plot6.png\")"
   ]
  },
  {
   "cell_type": "code",
   "execution_count": 23,
   "id": "8b1dfe16-073e-43dd-ab99-843b67686a9d",
   "metadata": {},
   "outputs": [
    {
     "data": {
      "text/plain": [
       "\"C:\\\\Users\\\\bill\\\\MAE150A\\\\hw\\\\my_plot7.png\""
      ]
     },
     "execution_count": 23,
     "metadata": {},
     "output_type": "execute_result"
    }
   ],
   "source": [
    "plot(ψ,cache,color=:lightgray)\n",
    "plot!(vel.u,cache,levels=[0],color=:red,xlim=(-2,2),ylim=(-2,2)) # x component in red\n",
    "plot!(vel.v,cache,levels=[0],color=:blue) # y component in red\n",
    "scatter!([1],[-0.05],markersize=5)\n",
    "scatter!([-1],[-0.05],markersize=5)\n",
    "scatter!([0],[-0.42],markersize=5)\n",
    "scatter!([0],[1.1],markersize=5)\n",
    "savefig(\"my_plot7.png\")"
   ]
  },
  {
   "cell_type": "code",
   "execution_count": null,
   "id": "79aa060c-3bfe-4b95-8fd3-253f6c6f9884",
   "metadata": {},
   "outputs": [],
   "source": []
  }
 ],
 "metadata": {
  "kernelspec": {
   "display_name": "Julia 1.9.3",
   "language": "julia",
   "name": "julia-1.9"
  },
  "language_info": {
   "file_extension": ".jl",
   "mimetype": "application/julia",
   "name": "julia",
   "version": "1.9.3"
  }
 },
 "nbformat": 4,
 "nbformat_minor": 5
}
