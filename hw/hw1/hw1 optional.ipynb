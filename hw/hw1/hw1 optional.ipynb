{
 "cells": [
  {
   "cell_type": "code",
   "execution_count": 3,
   "id": "e2317373-e18b-4e4c-999d-9917b952deeb",
   "metadata": {},
   "outputs": [],
   "source": [
    "using FluidDynTools\n",
    "using Plots"
   ]
  },
  {
   "cell_type": "code",
   "execution_count": 39,
   "id": "05f5043f-a18f-4d53-95bf-f357685b7d0a",
   "metadata": {},
   "outputs": [
    {
     "data": {
      "text/plain": [
       "Pressure = 101325.0 Pa"
      ]
     },
     "execution_count": 39,
     "metadata": {},
     "output_type": "execute_result"
    }
   ],
   "source": [
    "p0 = Pressure(1u\"atm\")"
   ]
  },
  {
   "cell_type": "code",
   "execution_count": 40,
   "id": "c0e87e29-86ab-47f3-a75f-0f5089febb2d",
   "metadata": {},
   "outputs": [
    {
     "data": {
      "text/plain": [
       "Density = 1.225225682761773 kg m^-3"
      ]
     },
     "execution_count": 40,
     "metadata": {},
     "output_type": "execute_result"
    }
   ],
   "source": [
    "ρ = Density(Air)"
   ]
  },
  {
   "cell_type": "code",
   "execution_count": 41,
   "id": "0e20dcfa-3e11-4006-a582-6c6a998ef49a",
   "metadata": {},
   "outputs": [
    {
     "data": {
      "text/plain": [
       "100 m"
      ]
     },
     "execution_count": 41,
     "metadata": {},
     "output_type": "execute_result"
    }
   ],
   "source": [
    "R = 100u\"m\""
   ]
  },
  {
   "cell_type": "code",
   "execution_count": 42,
   "id": "8b25decf-e37e-496a-8708-8cf20d451f5a",
   "metadata": {},
   "outputs": [
    {
     "data": {
      "text/plain": [
       "1 rad s^-1"
      ]
     },
     "execution_count": 42,
     "metadata": {},
     "output_type": "execute_result"
    }
   ],
   "source": [
    "Ω = 1u\"rad/s\""
   ]
  },
  {
   "cell_type": "code",
   "execution_count": 43,
   "id": "ae4efd05-bd3d-414c-b45f-aee0c7a42fab",
   "metadata": {},
   "outputs": [
    {
     "data": {
      "text/plain": [
       "pre2 (generic function with 1 method)"
      ]
     },
     "execution_count": 43,
     "metadata": {},
     "output_type": "execute_result"
    }
   ],
   "source": [
    "pre1(r1) = p0 + 0.5*ρ*Ω^2*r1^2-ρ*Ω^2*R^2\n",
    "pre2(r2) = p0 - ρ*Ω^2*R^4/(2*r2^2)"
   ]
  },
  {
   "cell_type": "code",
   "execution_count": 47,
   "id": "722f391d-c0bf-45d1-9021-e0e2c8d203dc",
   "metadata": {},
   "outputs": [
    {
     "data": {
      "text/plain": [
       "(100.0:0.2:300.0) m"
      ]
     },
     "execution_count": 47,
     "metadata": {},
     "output_type": "execute_result"
    }
   ],
   "source": [
    "r1 = range(0u\"m\",100u\"m\",length=1001)\n",
    "r2 = range(100u\"m\",300u\"m\",length=1001)"
   ]
  },
  {
   "cell_type": "code",
   "execution_count": 48,
   "id": "d7313b1e-b99f-4071-a509-cb41943ddd6f",
   "metadata": {},
   "outputs": [
    {
     "data": {
      "text/plain": [
       "1001-element Vector{Unitful.Quantity{Float64, 𝐌 𝐋^-1 𝐓^-2, Unitful.FreeUnits{(kg, m^-1, s^-2), 𝐌 𝐋^-1 𝐓^-2, nothing}}}:\n",
       "  95198.87158619113 kg m^-1 s^-2\n",
       "   95223.3027818526 kg m^-1 s^-2\n",
       "  95247.58811982264 kg m^-1 s^-2\n",
       "  95271.72875884963 kg m^-1 s^-2\n",
       "   95295.7258461978 kg m^-1 s^-2\n",
       "  95319.58051778369 kg m^-1 s^-2\n",
       "  95343.29389831034 kg m^-1 s^-2\n",
       "  95366.86710140006 kg m^-1 s^-2\n",
       "  95390.30122972513 kg m^-1 s^-2\n",
       "  95413.59737513667 kg m^-1 s^-2\n",
       "  95436.75661879194 kg m^-1 s^-2\n",
       "  95459.78003127969 kg m^-1 s^-2\n",
       "  95482.66867274392 kg m^-1 s^-2\n",
       "                               ⋮\n",
       " 100634.22484453839 kg m^-1 s^-2\n",
       " 100635.15174836619 kg m^-1 s^-2\n",
       " 100636.07678782185 kg m^-1 s^-2\n",
       "   100636.999967902 kg m^-1 s^-2\n",
       " 100637.92129358654 kg m^-1 s^-2\n",
       " 100638.84076983875 kg m^-1 s^-2\n",
       " 100639.75840160526 kg m^-1 s^-2\n",
       " 100640.67419381622 kg m^-1 s^-2\n",
       " 100641.58815138528 kg m^-1 s^-2\n",
       " 100642.50027920975 kg m^-1 s^-2\n",
       " 100643.41058217055 kg m^-1 s^-2\n",
       " 100644.31906513235 kg m^-1 s^-2"
      ]
     },
     "execution_count": 48,
     "metadata": {},
     "output_type": "execute_result"
    }
   ],
   "source": [
    "pre1s = pre1.(r1)\n",
    "pre2s = pre2.(r2)"
   ]
  },
  {
   "cell_type": "code",
   "execution_count": 50,
   "id": "8bd9d41f-da80-4201-b324-6b1b159ac9e6",
   "metadata": {},
   "outputs": [
    {
     "data": {
      "text/plain": [
       "\"C:\\\\Users\\\\bill\\\\MAE150A\\\\hw\\\\my_plot.png\""
      ]
     },
     "execution_count": 50,
     "metadata": {},
     "output_type": "execute_result"
    }
   ],
   "source": [
    "plot(r1,pre1s,xlim=(0,Inf),ylim=(8.5e4,Inf),xlabel=L\"r\",ylabel=L\"pressure\", label=\"r<=R\", legend=true)\n",
    "plot!(r2,pre2s,xlim=(0,Inf),ylim=(8.5e4,Inf),xlabel=L\"r\",ylabel=L\"pressure\", label=\"r>=R\", legend=true)\n",
    "vline!([100], label=\"R=100m\", color=\"red\", line=:dash)\n",
    "savefig(\"my_plot.png\")"
   ]
  },
  {
   "cell_type": "code",
   "execution_count": null,
   "id": "eb218b32-d7c6-4f7b-b56a-9e0784cbdc13",
   "metadata": {},
   "outputs": [],
   "source": []
  },
  {
   "cell_type": "code",
   "execution_count": null,
   "id": "687ee33c-cc34-424b-b9e6-d0212972dbfa",
   "metadata": {},
   "outputs": [],
   "source": []
  }
 ],
 "metadata": {
  "kernelspec": {
   "display_name": "Julia 1.9.3",
   "language": "julia",
   "name": "julia-1.9"
  },
  "language_info": {
   "file_extension": ".jl",
   "mimetype": "application/julia",
   "name": "julia",
   "version": "1.9.3"
  }
 },
 "nbformat": 4,
 "nbformat_minor": 5
}
