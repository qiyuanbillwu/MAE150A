{
 "cells": [
  {
   "cell_type": "code",
   "execution_count": 42,
   "id": "513d0802-b4fd-427d-a11f-ae65d05de7ab",
   "metadata": {},
   "outputs": [],
   "source": [
    "using FluidDynTools\n",
    "using ViscousFlow\n",
    "using Plots"
   ]
  },
  {
   "cell_type": "code",
   "execution_count": 43,
   "id": "4a1781b4-5da6-460e-9cec-5891e2c5da39",
   "metadata": {},
   "outputs": [
    {
     "data": {
      "text/plain": [
       "1"
      ]
     },
     "execution_count": 43,
     "metadata": {},
     "output_type": "execute_result"
    }
   ],
   "source": [
    "Γ=1\n",
    "σ=1"
   ]
  },
  {
   "cell_type": "code",
   "execution_count": 44,
   "id": "dab143ea-6755-45fa-bcef-d3cc3aa32fcb",
   "metadata": {},
   "outputs": [
    {
     "data": {
      "text/plain": [
       "u (generic function with 1 method)"
      ]
     },
     "execution_count": 44,
     "metadata": {},
     "output_type": "execute_result"
    }
   ],
   "source": [
    "u(r)=Γ/(2*pi*r)*(1-exp(-r^2/σ^2))"
   ]
  },
  {
   "cell_type": "code",
   "execution_count": 45,
   "id": "9604cbe2-4ade-46b9-8e8e-3bbcfa5c1660",
   "metadata": {},
   "outputs": [
    {
     "data": {
      "text/plain": [
       "0.0:0.4:40.0"
      ]
     },
     "execution_count": 45,
     "metadata": {},
     "output_type": "execute_result"
    }
   ],
   "source": [
    "r = range(0,40,length=101)"
   ]
  },
  {
   "cell_type": "code",
   "execution_count": 46,
   "id": "7c974d37-a5e3-4c56-95ac-be97fd6d1d7a",
   "metadata": {},
   "outputs": [
    {
     "data": {
      "text/plain": [
       "101-element Vector{Float64}:\n",
       " NaN\n",
       "   0.05883011713216476\n",
       "   0.09404218418817054\n",
       "   0.10120559928495994\n",
       "   0.09178219470369266\n",
       "   0.07811995931343357\n",
       "   0.06610559504365363\n",
       "   0.0568186745421903\n",
       "   0.04973414350479468\n",
       "   0.04420960240775646\n",
       "   0.0397887312953415\n",
       "   0.036171577834038286\n",
       "   0.033157279807542385\n",
       "   ⋮\n",
       "   0.0044706444688734645\n",
       "   0.004420970641441538\n",
       "   0.004372388546480642\n",
       "   0.004324862584018895\n",
       "   0.004278358685266003\n",
       "   0.004232844231167429\n",
       "   0.004188287976102509\n",
       "   0.004144659976351441\n",
       "   0.004101931522986994\n",
       "   0.00406007507887488\n",
       "   0.004019064219492306\n",
       "   0.0039788735772973835"
      ]
     },
     "execution_count": 46,
     "metadata": {},
     "output_type": "execute_result"
    }
   ],
   "source": [
    "us = u.(r)"
   ]
  },
  {
   "cell_type": "code",
   "execution_count": 47,
   "id": "e1007233-d3b2-46bc-bcd6-c63752c71658",
   "metadata": {},
   "outputs": [
    {
     "data": {
      "text/plain": [
       "\"C:\\\\Users\\\\bill\\\\MAE150A\\\\hw\\\\my_plot.png\""
      ]
     },
     "execution_count": 47,
     "metadata": {},
     "output_type": "execute_result"
    }
   ],
   "source": [
    "plot(r,us,xlim=(0,Inf),ylim=(0,Inf),xlabel=L\"r\",ylabel=L\"u_{θ}\",label=\"u_θ vs. r\", legend=true)\n",
    "savefig(\"my_plot.png\")"
   ]
  },
  {
   "cell_type": "code",
   "execution_count": 48,
   "id": "fe509726-8b28-439f-a655-a65c15fb1245",
   "metadata": {},
   "outputs": [
    {
     "data": {
      "text/plain": [
       "w (generic function with 1 method)"
      ]
     },
     "execution_count": 48,
     "metadata": {},
     "output_type": "execute_result"
    }
   ],
   "source": [
    "w(r)=Γ/(pi*σ^2)*exp(-r^2/σ^2)"
   ]
  },
  {
   "cell_type": "code",
   "execution_count": 49,
   "id": "1c051328-7735-4e6d-ac51-20d9010d93fe",
   "metadata": {},
   "outputs": [
    {
     "data": {
      "text/plain": [
       "0.0:0.005:5.0"
      ]
     },
     "execution_count": 49,
     "metadata": {},
     "output_type": "execute_result"
    }
   ],
   "source": [
    "r = range(0,5,length=1001)"
   ]
  },
  {
   "cell_type": "code",
   "execution_count": 50,
   "id": "27bb9aa5-1dd4-48cf-ac06-522a719e169d",
   "metadata": {},
   "outputs": [
    {
     "data": {
      "text/plain": [
       "1001-element Vector{Float64}:\n",
       " 0.3183098861837907\n",
       " 0.3183019285361071\n",
       " 0.3182780567866687\n",
       " 0.3182382745160141\n",
       " 0.3181825876907131\n",
       " 0.3181110046618754\n",
       " 0.3180235361630632\n",
       " 0.31792019530760884\n",
       " 0.3178009975853383\n",
       " 0.3176659608587015\n",
       " 0.31751510535831134\n",
       " 0.31734845367789216\n",
       " 0.31716603076863986\n",
       " ⋮\n",
       " 7.63899637544754e-12\n",
       " 7.270254007577436e-12\n",
       " 6.91896526367995e-12\n",
       " 6.58432108781076e-12\n",
       " 6.265549099507108e-12\n",
       " 5.9619119706662294e-12\n",
       " 5.6727058724161475e-12\n",
       " 5.3972589890448545e-12\n",
       " 5.1349300961732495e-12\n",
       " 4.885107200471025e-12\n",
       " 4.6472062383262894e-12\n",
       " 4.4206698309835716e-12"
      ]
     },
     "execution_count": 50,
     "metadata": {},
     "output_type": "execute_result"
    }
   ],
   "source": [
    "ws = w.(r)"
   ]
  },
  {
   "cell_type": "code",
   "execution_count": 51,
   "id": "09ea4ef3-d4d8-4d30-bd0b-b6921b8aea9e",
   "metadata": {},
   "outputs": [
    {
     "data": {
      "text/plain": [
       "\"C:\\\\Users\\\\bill\\\\MAE150A\\\\hw\\\\my_plot1.png\""
      ]
     },
     "execution_count": 51,
     "metadata": {},
     "output_type": "execute_result"
    }
   ],
   "source": [
    "plot(r,ws,xlim=(0,Inf),ylim=(0,Inf),xlabel=L\"r\",ylabel=L\"w\",label=\"w vs. r\", legend=true)\n",
    "savefig(\"my_plot1.png\")"
   ]
  },
  {
   "cell_type": "code",
   "execution_count": 52,
   "id": "d624b356-5d7d-4d62-b954-70bd592c4479",
   "metadata": {},
   "outputs": [
    {
     "data": {
      "text/plain": [
       "1001-element Vector{Float64}:\n",
       " 0.07040989756448474\n",
       " 0.07051688752146187\n",
       " 0.07062369690126637\n",
       " 0.07073032554843499\n",
       " 0.07083677330851251\n",
       " 0.07094304002805181\n",
       " 0.07104912555461391\n",
       " 0.07115502973676816\n",
       " 0.07126075242409204\n",
       " 0.07136629346717137\n",
       " 0.07147165271760028\n",
       " 0.07157683002798115\n",
       " 0.07168182525192479\n",
       " ⋮\n",
       " 0.09524474774256166\n",
       " 0.0952154329119635\n",
       " 0.09518607764488489\n",
       " 0.09515668212215893\n",
       " 0.09512724652431467\n",
       " 0.09509777103157693\n",
       " 0.09506825582386581\n",
       " 0.09503870108079637\n",
       " 0.09500910698167853\n",
       " 0.09497947370551657\n",
       " 0.09494980143100896\n",
       " 0.09492009033654795"
      ]
     },
     "execution_count": 52,
     "metadata": {},
     "output_type": "execute_result"
    }
   ],
   "source": [
    "r = range(0.5,1.5,length=1001)\n",
    "us = u.(r)"
   ]
  },
  {
   "cell_type": "code",
   "execution_count": 55,
   "id": "92e94951-900b-44e3-a434-30b922fabf68",
   "metadata": {},
   "outputs": [
    {
     "data": {
      "text/plain": [
       "\"C:\\\\Users\\\\bill\\\\MAE150A\\\\hw\\\\my_plot2.png\""
      ]
     },
     "execution_count": 55,
     "metadata": {},
     "output_type": "execute_result"
    }
   ],
   "source": [
    "plot(r,us,xlim=(0.5,Inf),ylim=(0.05,0.11),xlabel=L\"r\",ylabel=L\"u_{θ}\",label=\"u_θ vs. r\", legend=true)\n",
    "vline!([1.10], label=\"r for maximum u_θ\", color=\"red\")\n",
    "savefig(\"my_plot2.png\")"
   ]
  },
  {
   "cell_type": "code",
   "execution_count": null,
   "id": "417feba8-68ef-4da1-8c9b-5ca798078d22",
   "metadata": {},
   "outputs": [],
   "source": []
  }
 ],
 "metadata": {
  "kernelspec": {
   "display_name": "Julia 1.9.3",
   "language": "julia",
   "name": "julia-1.9"
  },
  "language_info": {
   "file_extension": ".jl",
   "mimetype": "application/julia",
   "name": "julia",
   "version": "1.9.3"
  }
 },
 "nbformat": 4,
 "nbformat_minor": 5
}
